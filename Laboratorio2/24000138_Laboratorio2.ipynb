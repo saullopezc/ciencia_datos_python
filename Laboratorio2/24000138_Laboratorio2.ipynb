{
 "cells": [
  {
   "cell_type": "markdown",
   "id": "b3578393-c60a-403f-a079-7b0d073e6581",
   "metadata": {},
   "source": [
    "# Laboratorio 2\n",
    "## Parte #1\n",
    "(Programación y Sintaxis): A continuación se le muestran una lista de ejercicios que debería completar utilizando Python, debe usar Markdown para indicar donde inicia cada uno de los ejercicios.\n",
    "\n",
    "1. Haga un programa en Python que reciba de parámetro un número de segundos y que despliegue en pantalla, las horas, minutos y segundos que representan. Por ejemplo:\n",
    "Si el número de segundos recibidos fuera: 2743 entonces su programa debería desplegar:\n",
    "Horas: 0, Minutos: 45 , Segundos: 43\n",
    "Si el número de segundos recibidos fuera 5871: Horas: 1, Minutos: 37 , Segundos: 51\n",
    "Recuerde manejar excepciones y errores que considere necesarios.\n"
   ]
  },
  {
   "cell_type": "code",
   "execution_count": 25,
   "id": "b5d0372f-0844-4bbc-a8ae-aaa0d5befe5c",
   "metadata": {},
   "outputs": [
    {
     "name": "stdin",
     "output_type": "stream",
     "text": [
      "Ingrese un numero:   dwdw\n"
     ]
    },
    {
     "name": "stderr",
     "output_type": "stream",
     "text": [
      "/tmp/ipykernel_283/3561930802.py:48: Warning: valor incorrecto\n",
      "  warnings.warn(\"valor incorrecto\", Warning)\n"
     ]
    },
    {
     "name": "stdout",
     "output_type": "stream",
     "text": [
      "o presione enter para salir\n"
     ]
    },
    {
     "name": "stdin",
     "output_type": "stream",
     "text": [
      "Ingrese un numero:   1\n"
     ]
    },
    {
     "name": "stdout",
     "output_type": "stream",
     "text": [
      "0h 00m 01s\n",
      "Bye !!!\n"
     ]
    }
   ],
   "source": [
    "\n",
    "import warnings\n",
    "\n",
    "def second_to_hhmmss(segundos: int) -> str:\n",
    "    try:\n",
    "        seconds = int(segundos)\n",
    "    except ValueError:\n",
    "        warnings.warn(\"valor incorrecto\", Warning)\n",
    "        return None\n",
    "    except TypeError:\n",
    "        warnings.warn(\"tipo de dato incorrecto\", Warning)\n",
    "        return None\n",
    "    hours = seconds // 3600\n",
    "    minutes = seconds % 3600 // 60\n",
    "    seconds_res = seconds % 3600 % 60\n",
    "\n",
    "    return f'{hours:0d}h {minutes:02d}m {seconds_res:02d}s'\n",
    "\n",
    "def testA():\n",
    "    test1 = second_to_hhmmss(3600*25 + 1)\n",
    "    test2 = second_to_hhmmss(3600*2 + 3)\n",
    "    test3 = second_to_hhmmss(60*2 + 5)\n",
    "    test4 = second_to_hhmmss(5)\n",
    "    \n",
    "    print(test1,test2,test3,test4)\n",
    "\n",
    "def testB():\n",
    "    test1 = second_to_hhmmss(3.5)\n",
    "    test2 = second_to_hhmmss('B')\n",
    "    test3 = second_to_hhmmss(type(test1))\n",
    "    test4 = second_to_hhmmss(-1)\n",
    "    \n",
    "    print(test1,test2,test3,test4)\n",
    "\n",
    "#testA()\n",
    "#testB()\n",
    "\n",
    "def ingreso():\n",
    "    while True:\n",
    "        try:\n",
    "            ingreso = input(\"Ingrese un numero:  \")\n",
    "    \n",
    "            if ingreso == \"\":\n",
    "                break\n",
    "            segundos = int(ingreso)\n",
    "            print(second_to_hhmmss(segundos))\n",
    "            break\n",
    "        except ValueError:\n",
    "            warnings.warn(\"valor incorrecto\", Warning)\n",
    "            segundos = None\n",
    "        \n",
    "        print(\"o presione enter para salir\")\n",
    "\n",
    "    print(\"Bye !!!\")\n",
    "\n",
    "ingreso()\n",
    "    \n",
    "    \n"
   ]
  },
  {
   "cell_type": "markdown",
   "id": "0b950e90-7533-4f56-9b54-91a211a20fac",
   "metadata": {},
   "source": [
    "2. Haga una función en Python que dado un número entre 1 y 20. Y un carácter cualquiera despliegue cuatro patrones triangulares."
   ]
  },
  {
   "cell_type": "code",
   "execution_count": 69,
   "id": "a41e3986-f77a-41eb-aaa9-713522533522",
   "metadata": {},
   "outputs": [
    {
     "name": "stdin",
     "output_type": "stream",
     "text": [
      "Ingrese un numero entre 1 y 20 6\n",
      "Ingrese 1 caracter %\n"
     ]
    },
    {
     "name": "stdout",
     "output_type": "stream",
     "text": [
      "%                                    %%%%%% %%%%%%                                    %\n",
      "%%                                    %%%%% %%%%%                                    %%\n",
      "%%%                                    %%%% %%%%                                    %%%\n",
      "%%%%                                    %%% %%%                                    %%%%\n",
      "%%%%%                                    %% %%                                    %%%%%\n",
      "%%%%%%                                    % %                                    %%%%%%\n"
     ]
    }
   ],
   "source": [
    "import warnings\n",
    "\n",
    "def patrones(numero, caracter):\n",
    "    \n",
    "    try:\n",
    "        \n",
    "        numero = int(numero)\n",
    "        if numero > 20 or numero < 1:\n",
    "            warnings.warn(\"Se debe ingresar un numero entre 1 y 20\", Warning)\n",
    "            return None\n",
    "        \n",
    "    except ValueError:\n",
    "        warnings.warn(\"Valor incorrecto, solo 1 caracter\", Warning)\n",
    "        return None\n",
    "\n",
    "        \n",
    "    try: \n",
    "        largo = len(str(caracter))\n",
    "        if largo != 1:\n",
    "            warnings.warn(\"Solo 1 caracter\", Warning)\n",
    "            return None\n",
    "    except ValueError:\n",
    "        warnings.warn(\"Valor incorrecto, solo 1 caracter\", Warning)\n",
    "        return None\n",
    "    \n",
    "    for repeticion in range(1,numero+1):\n",
    "        print (f\"{caracter*repeticion:21s} {(numero-repeticion+1)*caracter:>21s} {(numero-repeticion+1)*caracter:<21s} {repeticion*caracter:>21s}\")\n",
    "\n",
    "\n",
    "def testA():\n",
    "    patrones(20,'x')\n",
    "    patrones(12,'$')\n",
    "    patrones(5,'#')\n",
    "\n",
    "def testB():\n",
    "    patrones(30,'X')\n",
    "    patrones(5,'XX')\n",
    "    patrones(-1,'XX')\n",
    "    patrones(6.3,'X'*2)\n",
    "\n",
    "#testA()\n",
    "#testB()\n",
    "\n",
    "def ingreso():\n",
    "    numero = None\n",
    "    while True:\n",
    "        try:\n",
    "            numero = int(input(\"Ingrese un numero entre 1 y 20\"))\n",
    "            if numero > 20 or numero < 1:\n",
    "                warnings.warn(\"Se debe ingresar un numero entre 1 y 20\", Warning)\n",
    "                continue\n",
    "            \n",
    "        except ValueError:\n",
    "            warnings.warn(\"Valor incorrecto, solo 1 caracter\", Warning)\n",
    "            continue\n",
    "        break\n",
    "\n",
    "    caracter = None\n",
    "    while True:\n",
    "        try: \n",
    "            caracter = input(\"Ingrese 1 caracter\")\n",
    "            largo = len(str(caracter))\n",
    "            if largo != 1:\n",
    "                warnings.warn(\"Solo 1 caracter\", Warning)\n",
    "                continue\n",
    "        except ValueError:\n",
    "            warnings.warn(\"Valor incorrecto, solo 1 caracter\", Warning)\n",
    "            continue\n",
    "        break\n",
    "    patrones(numero, caracter)\n",
    "\n",
    "ingreso()"
   ]
  },
  {
   "cell_type": "markdown",
   "id": "f2d4d006-1151-4b00-a682-6deba468db34",
   "metadata": {},
   "source": [
    "3. Haga un programa en Python que la fecha de nacimiento de una persona (puede ingresar por separado cada valor, es decir pedir primero día, luego mes y luego año), despliegue la edad de la persona en años, meses y días. Su resultado puede ser aproximado."
   ]
  },
  {
   "cell_type": "code",
   "execution_count": 105,
   "id": "68743e7e-308c-48c9-b288-941aa569c583",
   "metadata": {},
   "outputs": [
    {
     "name": "stdin",
     "output_type": "stream",
     "text": [
      "Ingrese el dia: ejemplo 1 0\n",
      "Ingrese el mes: ejemplo 1 0\n",
      "Ingrese el año eje. 2000 0\n"
     ]
    },
    {
     "name": "stderr",
     "output_type": "stream",
     "text": [
      "/tmp/ipykernel_283/4078383913.py:18: Warning: Error\n",
      "  warnings.warn(\"Error\", Warning)\n",
      "ERROR:root:Error\n",
      "Traceback (most recent call last):\n",
      "  File \"/tmp/ipykernel_283/4078383913.py\", line 12, in validacion_fecha\n",
      "    fecha = datetime(years,mes,dia)\n",
      "            ^^^^^^^^^^^^^^^^^^^^^^^\n",
      "ValueError: year 0 is out of range\n"
     ]
    },
    {
     "name": "stdout",
     "output_type": "stream",
     "text": [
      "o ingrese enter para salir\n"
     ]
    },
    {
     "name": "stdin",
     "output_type": "stream",
     "text": [
      "Ingrese el dia: ejemplo 1 10\n",
      "Ingrese el mes: ejemplo 1 10\n",
      "Ingrese el año eje. 2000 1990\n"
     ]
    },
    {
     "name": "stdout",
     "output_type": "stream",
     "text": [
      "33 años 4 meses 15 dias\n",
      "Bye!!!\n"
     ]
    }
   ],
   "source": [
    "from datetime import datetime\n",
    "from dateutil.relativedelta import relativedelta\n",
    "import warnings\n",
    "import logging\n",
    "\n",
    "\n",
    "def validacion_fecha(dia, mes, years):\n",
    "    try:\n",
    "        dia = int(dia)\n",
    "        mes = int(mes)\n",
    "        years = int(years)\n",
    "        fecha = datetime(years,mes,dia)\n",
    "\n",
    "        if fecha >= datetime.now():\n",
    "            warnings.warn(\"Ha nacido en el futuro\", Warning)\n",
    "            return None\n",
    "    except ValueError:\n",
    "        warnings.warn(\"Error\", Warning)\n",
    "        logging.exception(\"Error\")\n",
    "        return None\n",
    "    except TypeError:\n",
    "        warnings.warn(\"Error\", Warning)\n",
    "        logging.exception(\"Error\")\n",
    "        return None\n",
    "    except NameError:\n",
    "        warnings.warn(\"Error\", Warning)\n",
    "        logging.exception(\"Error\")\n",
    "        return None\n",
    "\n",
    "    return fecha\n",
    "    \n",
    "\n",
    "def comparacion(dia, mes, years):\n",
    "    rdelta = relativedelta(now, validacion_fecha(dia, mes, years))\n",
    "    print( f\"{rdelta.years} años {rdelta.months} meses {rdelta.days} dias\")\n",
    "\n",
    "\n",
    "def ingreso():\n",
    "    while True:\n",
    "        dia = input(\"Ingrese el dia: ejemplo 1\")\n",
    "        mes = input(\"Ingrese el mes: ejemplo 1\")\n",
    "        anio = input(\"Ingrese el año eje. 2000\")\n",
    "        if dia == \"\" or mes == \"\" or anio == \"\":\n",
    "            break\n",
    "\n",
    "        if validacion_fecha(dia, mes, anio) != None:\n",
    "            comparacion(dia, mes, anio)\n",
    "            break\n",
    "\n",
    "        print(\"o ingrese enter para salir\")\n",
    "    print(\"Bye!!!\")\n",
    "\n",
    "ingreso()\n",
    "            \n",
    "        \n",
    "        "
   ]
  },
  {
   "cell_type": "markdown",
   "id": "19087342-6c84-417c-b824-61f42e477c8d",
   "metadata": {},
   "source": [
    "Escriba una función en Python que dada una tupla de elementos (números o letras) esta se convierta a un string. Tomar nota del siguiente ejemplo:\n",
    "Si la entrada fuera: (10, 20, 40, 5, 70)\n",
    "La salida debería ser: 102040570"
   ]
  },
  {
   "cell_type": "code",
   "execution_count": 110,
   "id": "f05598c9-1850-4433-b8c2-203db3b63a12",
   "metadata": {},
   "outputs": [
    {
     "name": "stdout",
     "output_type": "stream",
     "text": [
      "102040570\n"
     ]
    }
   ],
   "source": [
    "tupla1 = ( 'a', 'b', 10, 20 , 30)\n",
    "tupla2 = (10,20,40,5,70)\n",
    "\n",
    "def concatenar(tupla):\n",
    "    print(\"\".join(str(x) for x in tupla))\n",
    "\n",
    "concatenar(tupla2)"
   ]
  },
  {
   "cell_type": "markdown",
   "id": "63cd0413-37a9-48ba-aa9d-ef886bf36e7b",
   "metadata": {},
   "source": [
    "5. Cree un programa en Python que dada una lista de tuplas, elimine las tuplas que están vacías.\n",
    "Tomar nota del siguiente ejemplo:\n",
    "Si la lista fuera: [(), (), (’X’,), (’a’, ’b’), (’a’, ’b’, ’c’), (’d’)]\n",
    "El resultado debería ser: [(’X’), (’a’, ’b’), (’a’, ’b’, ’c’), ’d’]"
   ]
  },
  {
   "cell_type": "code",
   "execution_count": 132,
   "id": "ec88473e-edf0-4fb1-b32f-f2b241b9b728",
   "metadata": {},
   "outputs": [
    {
     "name": "stdout",
     "output_type": "stream",
     "text": [
      "['X', ('a', 'b'), ('a', 'b', 'c'), 'd']\n"
     ]
    }
   ],
   "source": [
    "\n",
    "arreglo = [ (), (), ('X'), ('a', 'b'), ('a', 'b', 'c'), ('d')]\n",
    "\n",
    "arreglo = [ (), (), ('X'), ('a', 'b'), (), (),(), (),(), (),(), (),('a', 'b', 'c'), ('d')]\n",
    "\n",
    "resultado = [item for item in arreglo if item != ()]\n",
    "print(resultado)"
   ]
  },
  {
   "cell_type": "markdown",
   "id": "5c772934-3f6f-4be2-8280-8872c760cad6",
   "metadata": {},
   "source": [
    "6. Cree una función en Python que dada una tupla de tuplas con números, produzca una tupla con el promedio de cada tupla individual, debe usar comprehensions para desarrollar este ejercicio. Tomar nota del siguiente ejemplo:\n",
    "Si la tupla de entrada fuera: ((10, 10, 10, 12), (30, 45, 56, 45), (81, 80, 39, 32))\n",
    "El resultado deber´ıa ser: (10.5, 44, 58)"
   ]
  },
  {
   "cell_type": "code",
   "execution_count": 154,
   "id": "370ceab3-61aa-4739-98d8-b5e757d26617",
   "metadata": {},
   "outputs": [
    {
     "data": {
      "text/plain": [
       "(10.5, 44, 58)"
      ]
     },
     "execution_count": 154,
     "metadata": {},
     "output_type": "execute_result"
    }
   ],
   "source": [
    "from statistics import mean\n",
    "tupla = ((10, 10, 10, 12), (30, 45, 56, 45), (81, 80, 39, 32))\n",
    "              \n",
    "resultado = tuple([mean(subtupla) for subtupla in tupla])\n",
    "resultado"
   ]
  },
  {
   "cell_type": "markdown",
   "id": "b63ff556-1a4e-47d6-8d6d-b4752ca046c7",
   "metadata": {},
   "source": [
    "7. Escribir un programa que gestione las facturas pendientes de cobro de una empresa. Las facturas se almacenarán en un diccionario donde la llave de cada factura será el número de factura (debe utilizar un numero de 4 dígitos) y el valor el coste de la factura. El programa debe preguntar al usuario si quiere añadir una nueva factura, pagar una existente o terminar. Si desea añadir una nueva factura se preguntará por el número de factura y su coste y se añadirá al diccionario, para confirmar que la factura se ingreso correctamente el programa debe desplegar el diccionario completo. Si se desea pagar una factura se preguntará por el número de factura y se eliminará del diccionario. Después de cada operación el programa debe mostrar en pantalla la cantidad cobrada hasta el momento y la cantidad pendiente de\n",
    "cobro. Puede utilizar otras estructuras de datos como apoyo si lo considera necesario."
   ]
  },
  {
   "cell_type": "code",
   "execution_count": 185,
   "id": "69e582f4-3365-4f2b-bcc7-f2c70417bbd7",
   "metadata": {},
   "outputs": [
    {
     "name": "stdout",
     "output_type": "stream",
     "text": [
      "\n",
      "1. Añadir nueva factura\n",
      "2. Pagar factura existente\n",
      "3. Terminar\n"
     ]
    },
    {
     "name": "stdin",
     "output_type": "stream",
     "text": [
      "Seleccione una opción (1/2/3):  1\n",
      "Ingrese el número de factura (4 dígitos):  10\n",
      "Ingrese el coste de la factura:  10.10\n"
     ]
    },
    {
     "name": "stdout",
     "output_type": "stream",
     "text": [
      "Las facturas pendientes son {'0001': 12.5, '0002': 250.6, '0003': 800.68, '0004': 9841.15, '0010': 10.1}, cuentas por cobrar 10915.03, y se ha cobrado 0\n",
      "\n",
      "1. Añadir nueva factura\n",
      "2. Pagar factura existente\n",
      "3. Terminar\n"
     ]
    },
    {
     "name": "stdin",
     "output_type": "stream",
     "text": [
      "Seleccione una opción (1/2/3):  3\n"
     ]
    },
    {
     "name": "stdout",
     "output_type": "stream",
     "text": [
      "Las facturas pendientes son {'0001': 12.5, '0002': 250.6, '0003': 800.68, '0004': 9841.15, '0010': 10.1}, cuentas por cobrar 10915.03, y se ha cobrado 0\n"
     ]
    }
   ],
   "source": [
    "import logging\n",
    "\n",
    "factura = {\n",
    "    \"0001\": 12.50,\n",
    "    \"0002\": 250.60,\n",
    "    \"0003\": 800.68,\n",
    "    \"0004\": 9841.15\n",
    "}\n",
    "\n",
    "cantidad_cobrada = 0\n",
    "\n",
    "def agregar(id_factura, costo,factura=factura):\n",
    "    if id_factura in factura:\n",
    "        logging.error(\"Factura no ingresa, id ya existe\")\n",
    "        return None\n",
    "\n",
    "    factura[f\"{id_factura:04d}\"] = costo\n",
    "    return costo\n",
    "\n",
    "def pagar(id_factura,factura=factura):\n",
    "    selected_item = f\"{id_factura:04d}\" \n",
    "    if selected_item not in factura:\n",
    "        logging.error(\"Factura no pagada, id no existe\")\n",
    "        return None\n",
    "\n",
    "    cantidad_cobrada = factura[selected_item]\n",
    "    factura.pop(selected_item)\n",
    "\n",
    "    return cantidad_cobrada\n",
    "\n",
    "\n",
    "\n",
    "while True:\n",
    "    print(\"\\n1. Añadir nueva factura\")\n",
    "    print(\"2. Pagar factura existente\")\n",
    "    print(\"3. Terminar\")\n",
    "\n",
    "    try:\n",
    "        opcion = int(input(\"Seleccione una opción (1/2/3): \"))\n",
    "    except ValueError:\n",
    "        logging.exception(\"Error en el ingreso\")\n",
    "        continue\n",
    "\n",
    "    if opcion == 1:\n",
    "        while True:\n",
    "            try:\n",
    "                numero_factura = int(input(\"Ingrese el número de factura (4 dígitos): \"))\n",
    "                if numero_factura >= 0 and numero_factura <= 9999:\n",
    "                    break\n",
    "            except ValueError:\n",
    "                logging.exception(\"Error en el ingreso\")\n",
    "                print(\"Intente de nuevo\")\n",
    "                \n",
    "                \n",
    "        \n",
    "        while True:\n",
    "            try:\n",
    "                coste_factura = float(input(\"Ingrese el coste de la factura: \"))\n",
    "                break\n",
    "            except ValueError:\n",
    "                logging.exception(\"Error en el ingreso\")\n",
    "                print(\"Intente de nuevo\")\n",
    "                \n",
    "        if agregar(numero_factura,coste_factura) is None:\n",
    "            print(\"Error no se logro ingresar factura\")\n",
    "\n",
    "    if opcion == 2:\n",
    "        while True:\n",
    "            try:\n",
    "                \n",
    "                numero_factura = int(input(\"Ingrese el número de factura (4 dígitos): \"))\n",
    "                if numero_factura >= 0 and numero_factura <= 9999:\n",
    "                    break\n",
    "            except ValueError:\n",
    "                logging.exception(\"Error en el ingreso\")\n",
    "                print(\"Intente de nuevo\")\n",
    "        resultado = pagar(numero_factura)\n",
    "        if resultado is None:\n",
    "            print(\"Error no se logro ingresar factura\")\n",
    "        else:\n",
    "            cantidad_cobrada += resultado\n",
    "                \n",
    "    print(f\"Las facturas pendientes son {factura}, cuentas por cobrar {sum(factura.values()):.2f}, y se ha cobrado {cantidad_cobrada}\")\n",
    "    \n",
    "    if opcion == 3:\n",
    "        break"
   ]
  },
  {
   "cell_type": "markdown",
   "id": "343ba9cb-5b69-4576-b88b-6168797b3857",
   "metadata": {},
   "source": [
    "8. Haga una función en Python, que cree un set con todas las cartas de una baraja de Pocker utilizando el siguiente formato: Tipo-Numero. Utilice las letras T para tréboles, C para corazones, P para picas y E para espadas. Para los números utilice la numeración del 1 al 13. Por ejemplo E13 - sería Rey de Espadas, P01 sería As de Picas, T05 sería cinco de Tréboles. Posteriormente cree una función que dado el conjunto anterior cree dos sets nuevos de cartas, cada conjunto debe tener una cantidad variable de elementos, puede utilizar números aleatorios enteros para definir la longitud de los conjuntos. Adicionalmente, debería calcular la probabilidad de la intersección de ambos conjuntos y demuestre si son eventos independientes con la regla del producto. Para concluir, calcule probabilidad de la unión de ambos conjuntos y demuestre que se cumple la regla de la adición."
   ]
  },
  {
   "cell_type": "code",
   "execution_count": 209,
   "id": "6d00cc73-fd04-431e-9b40-d1bfe46cbc48",
   "metadata": {},
   "outputs": [
    {
     "name": "stdout",
     "output_type": "stream",
     "text": [
      "Conjunto 1: {'P10', 'E08', 'T09', 'C09', 'E06', 'E12', 'T03', 'C10', 'P04', 'P08', 'P06', 'T12', 'E04', 'T13', 'P09', 'P01', 'C07', 'C02', 'T02', 'P02', 'E01', 'C13', 'T05'}\n",
      "Conjunto 2: {'T06', 'E08', 'T09', 'E10', 'E06', 'T10', 'C12', 'E09', 'T08', 'C10', 'P08', 'P06', 'E04', 'C01', 'C04', 'P09', 'E03', 'E02', 'P12', 'E01', 'C13'}\n",
      "Intersección: {'P08', 'P06', 'E04', 'E08', 'T09', 'P09', 'C10', 'E01', 'C13', 'E06'}\n",
      "Probabilidad de intersección: 0.48\n",
      "Probabilidad de unión: 1.48\n",
      "La regla del producto no se cumple.\n"
     ]
    }
   ],
   "source": [
    "import random\n",
    "\n",
    "def crear_baraja():\n",
    "    tipos = ['T', 'C', 'P', 'E']\n",
    "    numeros = list(range(1, 14))\n",
    "    baraja = set(f'{tipo}{numero:02d}' for tipo in tipos for numero in numeros)\n",
    "    return baraja\n",
    "\n",
    "def crear_conjuntos(baraja):\n",
    "    longitud_conjunto1 = random.randint(1, len(baraja))\n",
    "    longitud_conjunto2 = random.randint(1, len(baraja))\n",
    "\n",
    "    conjunto1 = set(random.choices(list(baraja), k=longitud_conjunto1))\n",
    "    conjunto2 = set(random.choices(list(baraja), k=longitud_conjunto2))\n",
    "\n",
    "    return conjunto1, conjunto2\n",
    "\n",
    "def calcular_probabilidades(conjunto1, conjunto2):\n",
    "    interseccion = conjunto1 & conjunto2\n",
    "    prob_interseccion = len(interseccion) / min(len(conjunto1), len(conjunto2))\n",
    "\n",
    "    prob_union = len(conjunto1 | conjunto2) / max(len(conjunto1), len(conjunto2))\n",
    "\n",
    "    print(f'Conjunto 1: {conjunto1}')\n",
    "    print(f'Conjunto 2: {conjunto2}')\n",
    "    print(f'Intersección: {interseccion}')\n",
    "    print(f'Probabilidad de intersección: {prob_interseccion:.2f}')\n",
    "    print(f'Probabilidad de unión: {prob_union:.2f}')\n",
    "\n",
    "    if prob_interseccion == prob_union:\n",
    "        print('La regla del producto se cumple (eventos independientes).')\n",
    "    else:\n",
    "        print('La regla del producto no se cumple.')\n",
    "\n",
    "\n",
    "baraja = crear_baraja()\n",
    "conjunto1, conjunto2 = crear_conjuntos(baraja)\n",
    "calcular_probabilidades(conjunto1, conjunto2)"
   ]
  }
 ],
 "metadata": {
  "kernelspec": {
   "display_name": "Python 3 (ipykernel)",
   "language": "python",
   "name": "python3"
  },
  "language_info": {
   "codemirror_mode": {
    "name": "ipython",
    "version": 3
   },
   "file_extension": ".py",
   "mimetype": "text/x-python",
   "name": "python",
   "nbconvert_exporter": "python",
   "pygments_lexer": "ipython3",
   "version": "3.11.7"
  }
 },
 "nbformat": 4,
 "nbformat_minor": 5
}
