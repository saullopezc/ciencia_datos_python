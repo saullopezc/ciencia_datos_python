{
 "cells": [
  {
   "cell_type": "markdown",
   "id": "407c3dcd-cfe1-4866-b51c-3dfa8e83a3fa",
   "metadata": {},
   "source": [
    "# Investigación de GIT"
   ]
  },
  {
   "cell_type": "markdown",
   "id": "abfe4d49-2b0c-4ef4-b222-766f7aa52896",
   "metadata": {},
   "source": [
    "Esta investigación fue extraída del sitio: [git-scm.com](https://git-scm.com/book/es/v2/Inicio---Sobre-el-Control-de-Versiones-Una-breve-historia-de-Git)"
   ]
  },
  {
   "cell_type": "markdown",
   "id": "fe0414d3-886f-4287-abfe-3cd18d40d1c9",
   "metadata": {},
   "source": [
    "## Breve historia de GIT"
   ]
  },
  {
   "cell_type": "markdown",
   "id": "956d2c4c-2dd6-4c50-a5bc-e90b4b0086b6",
   "metadata": {},
   "source": [
    "Git, nacido en 2005 como respuesta a la ruptura entre la comunidad del kernel de Linux y la compañía detrás del DVCS BitKeeper, fue desarrollado por Linus Torvalds y otros colaboradores. Ante la necesidad de una herramienta propia, se propusieron objetivos clave, como velocidad, diseño sencillo, soporte para desarrollo no lineal, distribución completa y eficiencia en proyectos masivos como el kernel de Linux. Desde entonces, Git ha evolucionado para ser fácil de usar, manteniendo su rapidez, eficiencia en proyectos extensos y un robusto sistema de ramificación."
   ]
  },
  {
   "cell_type": "markdown",
   "id": "c914e4b6-eec9-4578-a9c3-e22063c66478",
   "metadata": {},
   "source": [
    "---"
   ]
  },
  {
   "cell_type": "markdown",
   "id": "f6bb7e8c-2503-4527-8e1b-ed794296cc8e",
   "metadata": {},
   "source": [
    "## Qué es GIT\n",
    "Git es un sistema de control de versiones distribuido que permite realizar un seguimiento de los cambios en el código fuente durante el desarrollo de un proyecto."
   ]
  },
  {
   "cell_type": "markdown",
   "id": "d81a6df8-574c-454d-ad27-0f16a4e1e780",
   "metadata": {},
   "source": [
    "---"
   ]
  },
  {
   "cell_type": "markdown",
   "id": "f330d869-2d52-4953-ae6e-6d39e9e91859",
   "metadata": {},
   "source": [
    "## Definiciones"
   ]
  },
  {
   "cell_type": "markdown",
   "id": "baa13542-8752-4291-898e-947ac5407286",
   "metadata": {},
   "source": [
    "**Repositorio (Repository):** Un lugar donde se almacenan los archivos del proyecto, junto con el historial de cambios."
   ]
  },
  {
   "cell_type": "markdown",
   "id": "c8b06168-21d9-49a5-a0f7-544096e926be",
   "metadata": {},
   "source": [
    "**Rama (Branch):** Una línea independiente de desarrollo que permite trabajar en nuevas características sin afectar la rama principal (usualmente llamada \"main\" o \"master\")."
   ]
  },
  {
   "cell_type": "markdown",
   "id": "58449f19-a120-43ed-b3cc-633d873b8477",
   "metadata": {},
   "source": [
    "**Commit:** Una instantánea de los cambios realizados en los archivos en un momento específico. Cada commit tiene un identificador único."
   ]
  },
  {
   "cell_type": "markdown",
   "id": "73afab3e-ba41-4318-ad83-4db54f73e1f8",
   "metadata": {},
   "source": [
    "---"
   ]
  },
  {
   "cell_type": "markdown",
   "id": "607864fe-6050-42b0-b31b-2a958cf340ec",
   "metadata": {},
   "source": [
    "## Instalación"
   ]
  },
  {
   "cell_type": "markdown",
   "id": "0d3b8bf2-e934-4ae9-a604-91ee3cdd1128",
   "metadata": {},
   "source": [
    "Para sistemas basados en Linux, git esta instalado como parte del sistema base, para sistemas Windows usar [Descargar](https://git-scm.com/download/win) y darle siguiente, siguiente y siguiente hasta finalizar, los valores por defecto funcionan para este tuto"
   ]
  },
  {
   "cell_type": "markdown",
   "id": "9f5b38b6-0808-4925-8cf7-c44d5ae41061",
   "metadata": {},
   "source": [
    "---"
   ]
  },
  {
   "cell_type": "markdown",
   "id": "6ccec990-e12d-450a-9b51-59ac6a0e4e95",
   "metadata": {},
   "source": [
    "## Comandos GIT"
   ]
  },
  {
   "cell_type": "markdown",
   "id": "2520722b-3b62-4761-8581-51b0847b9744",
   "metadata": {},
   "source": [
    "Para obtener repositorios utilizaremos el comando ``git clone [url | ssh]``"
   ]
  },
  {
   "cell_type": "markdown",
   "id": "17471fa5-810a-4875-bcd5-8bddd1b85716",
   "metadata": {},
   "source": [
    "#!git init"
   ]
  },
  {
   "cell_type": "markdown",
   "id": "88d28951-c2bd-44c5-a33c-20b45e62a0e3",
   "metadata": {},
   "source": [
    "```bash\n",
    " # Inicializar un repositorio Git\n",
    "git init\n",
    "\n",
    "#Crear archivo nuevo\n",
    "touch > archivo.txt\n",
    "\n",
    "# Añadir archivos al área de preparación\n",
    "git add archivo.txt\n",
    "\n",
    "# Realizar un commit\n",
    "git commit -m \"Primer commit\"\n",
    "\n",
    "# Ver el estado del repositorio\n",
    "git status\n",
    "\n",
    "# Crear y cambiar a una nueva rama\n",
    "git branch nueva_rama\n",
    "git checkout nueva_rama  # O usar \"git switch nueva_rama\" en versiones más recientes de Git\n",
    "\n",
    "#Crear archivo modificado\n",
    "echo \"Nuevo archivo\" > archivo_modificado.txt\n",
    "\n",
    "# Hacer cambios en la nueva rama y realizar un commit\n",
    "git add archivo_modificado.txt\n",
    "git commit -m \"Cambios en la nueva rama\"\n",
    "\n",
    "# Cambiar de nuevo a la rama principal\n",
    "git checkout main  # O usar \"git switch main\"\n",
    "\n",
    "# Fusionar la rama nueva_rama en la rama principal\n",
    "git merge nueva_rama \n",
    "``` "
   ]
  },
  {
   "cell_type": "markdown",
   "id": "fdf1b442-d36c-4da2-809e-b346eb0c1522",
   "metadata": {},
   "source": [
    "## Ejemplo de uso GIT"
   ]
  },
  {
   "cell_type": "code",
   "execution_count": 1,
   "id": "67adb139-40af-439d-8bff-371f2a602125",
   "metadata": {},
   "outputs": [
    {
     "name": "stdout",
     "output_type": "stream",
     "text": [
      "/home/jovyan\n",
      "/home/jovyan/repo\n",
      "Initialized empty Git repository in /home/jovyan/repo/.git/\n",
      "[main (root-commit) d74c1c8] Primer commit\n",
      " 1 file changed, 0 insertions(+), 0 deletions(-)\n",
      " create mode 100644 archivo.txt\n",
      "On branch main\n",
      "nothing to commit, working tree clean\n",
      "\u001b[33mcommit d74c1c8937f3e39db43e2eb37d036794c1ca89e3\u001b[m\u001b[33m (\u001b[m\u001b[1;36mHEAD -> \u001b[m\u001b[1;32mmain\u001b[m\u001b[33m)\u001b[m\n",
      "Author: saullopezc <saullopezc@gmail.com>\n",
      "Date:   Fri Feb 2 02:10:47 2024 +0000\n",
      "\n",
      "    Primer commit\n"
     ]
    }
   ],
   "source": [
    "!git config --global user.email \"saullopezc@gmail.com\"\n",
    "!git config --global user.name \"saullopezc\"\n",
    "!git config --global init.defaultBranch main\n",
    "\n",
    "%cd /home/jovyan\n",
    "!mkdir repo #Creamos un directorio especifico para el repo\n",
    "%cd /home/jovyan/repo\n",
    "!git init  #Iniciamos repositorio git\n",
    "!touch archivo.txt #Creamos archivo en blanco\n",
    "!git add archivo.txt #Agregramos el archivo en blanco al staging\n",
    "!git commit -m \"Primer commit\" #Realizamos un commit y agregamos el archivo al repositorio\n",
    "!git status #Revisamos el commit recien realizado\n",
    "!git log"
   ]
  },
  {
   "cell_type": "code",
   "execution_count": 2,
   "id": "d690b23c-26f4-45dc-b019-ecf8d81e7118",
   "metadata": {},
   "outputs": [
    {
     "name": "stdout",
     "output_type": "stream",
     "text": [
      "Switched to branch 'nueva_rama'\n",
      "[nueva_rama ff8fc7b] Cambios en la nueva rama\n",
      " 1 file changed, 1 insertion(+)\n",
      " create mode 100644 archivo_modificado.txt\n",
      "\u001b[33mcommit ff8fc7b4487dc875783b1552c71373b044d934d8\u001b[m\u001b[33m (\u001b[m\u001b[1;36mHEAD -> \u001b[m\u001b[1;32mnueva_rama\u001b[m\u001b[33m)\u001b[m\n",
      "Author: saullopezc <saullopezc@gmail.com>\n",
      "Date:   Fri Feb 2 02:10:52 2024 +0000\n",
      "\n",
      "    Cambios en la nueva rama\n",
      "\n",
      "\u001b[33mcommit d74c1c8937f3e39db43e2eb37d036794c1ca89e3\u001b[m\u001b[33m (\u001b[m\u001b[1;32mmain\u001b[m\u001b[33m)\u001b[m\n",
      "Author: saullopezc <saullopezc@gmail.com>\n",
      "Date:   Fri Feb 2 02:10:47 2024 +0000\n",
      "\n",
      "    Primer commit\n"
     ]
    }
   ],
   "source": [
    "!git branch nueva_rama #Creamos nueva rama\n",
    "!git checkout nueva_rama #Utilizamos nueva rama\n",
    "!echo \"Nuevo archivo\" > archivo_modificado.txt #Creamos nuevo archivo con informacion\n",
    "!git add archivo_modificado.txt #Agregamos el archivo con info al stage\n",
    "!git commit -m \"Cambios en la nueva rama\" #Agregamos los archivos del stage al repositorio\n",
    "!git log"
   ]
  },
  {
   "cell_type": "code",
   "execution_count": 3,
   "id": "d69af7a1-83b3-44ad-84a1-e5a49c9e868f",
   "metadata": {},
   "outputs": [
    {
     "name": "stdout",
     "output_type": "stream",
     "text": [
      "Switched to branch 'main'\n",
      "Updating d74c1c8..ff8fc7b\n",
      "Fast-forward\n",
      " archivo_modificado.txt | 1 \u001b[32m+\u001b[m\n",
      " 1 file changed, 1 insertion(+)\n",
      " create mode 100644 archivo_modificado.txt\n",
      "\u001b[33mcommit ff8fc7b4487dc875783b1552c71373b044d934d8\u001b[m\u001b[33m (\u001b[m\u001b[1;36mHEAD -> \u001b[m\u001b[1;32mmain\u001b[m\u001b[33m, \u001b[m\u001b[1;32mnueva_rama\u001b[m\u001b[33m)\u001b[m\n",
      "Author: saullopezc <saullopezc@gmail.com>\n",
      "Date:   Fri Feb 2 02:10:52 2024 +0000\n",
      "\n",
      "    Cambios en la nueva rama\n",
      "\n",
      "\u001b[33mcommit d74c1c8937f3e39db43e2eb37d036794c1ca89e3\u001b[m\n",
      "Author: saullopezc <saullopezc@gmail.com>\n",
      "Date:   Fri Feb 2 02:10:47 2024 +0000\n",
      "\n",
      "    Primer commit\n"
     ]
    }
   ],
   "source": [
    "!git checkout main #Regresamos a la rama principal\n",
    "!git merge nueva_rama #Fusionamos la nueva rama en la principal\n",
    "!git log"
   ]
  },
  {
   "cell_type": "markdown",
   "id": "4e444f8d-0f23-4a52-8c0d-971a5a193d62",
   "metadata": {},
   "source": [
    "## Github\n",
    "GitHub es una plataforma de desarrollo colaborativo basada en Git, un sistema de control de versiones distribuido. Permite a los desarrolladores trabajar juntos en proyectos, realizar un seguimiento de las revisiones de código, gestionar problemas (issues), colaborar en documentación y facilitar la integración continua, entre otras cosas."
   ]
  },
  {
   "cell_type": "markdown",
   "id": "95216076-fd64-4a0d-afb2-85f6cce01aba",
   "metadata": {},
   "source": [
    "Para crear un repo se puede buscar un boton que indique un nuevo repositorio y aparecera lo siguiente:"
   ]
  },
  {
   "cell_type": "markdown",
   "id": "98e3726e-64df-426b-b993-bfa3a924e765",
   "metadata": {},
   "source": [
    "![Imagen_repo](Captura%20desde%202024-02-01%2020-21-49.png)"
   ]
  },
  {
   "cell_type": "markdown",
   "id": "d01eceae-2a8b-43e5-b922-06e08d02ef84",
   "metadata": {},
   "source": [
    "Creamos el repositorio con el boton Crear repositorio y nos aparecera una pantalla asi:"
   ]
  },
  {
   "cell_type": "markdown",
   "id": "c5b9017e-be73-4752-999a-12b1a0d5148a",
   "metadata": {},
   "source": [
    "![Imagen_newrepo](Captura%20desde%202024-02-01%2020-23-32.png)"
   ]
  },
  {
   "cell_type": "code",
   "execution_count": 7,
   "id": "45b6cdc6-1291-4f7e-a09a-20f943263f6c",
   "metadata": {},
   "outputs": [
    {
     "name": "stdout",
     "output_type": "stream",
     "text": [
      "fatal: not a git repository (or any parent up to mount point /home)\n",
      "Stopping at filesystem boundary (GIT_DISCOVERY_ACROSS_FILESYSTEM not set).\n"
     ]
    }
   ],
   "source": [
    "%cd /home/jovyan\n",
    "!mv Clase2 repo/"
   ]
  },
  {
   "cell_type": "code",
   "execution_count": 14,
   "id": "2c9c15bd-6810-4a7e-a3f0-9873cba4f808",
   "metadata": {},
   "outputs": [
    {
     "name": "stdout",
     "output_type": "stream",
     "text": [
      "/home/jovyan/repo\n",
      "On branch main\n",
      "Untracked files:\n",
      "  (use \"git add <file>...\" to include in what will be committed)\n",
      "\t\u001b[31mClase2/\u001b[m\n",
      "\n",
      "nothing added to commit but untracked files present (use \"git add\" to track)\n",
      "Switched to branch 'clase2'\n",
      "[clase2 19350d9] Archivos de la Clase2\n",
      " 7 files changed, 3442 insertions(+)\n",
      " create mode 100644 Clase2/.ipynb_checkpoints/Captura desde 2024-02-01 20-23-32-checkpoint.png\n",
      " create mode 100644 Clase2/.ipynb_checkpoints/Clase2-checkpoint.ipynb\n",
      " create mode 100644 Clase2/.ipynb_checkpoints/Investigacion_GIT-checkpoint.ipynb\n",
      " create mode 100644 Clase2/Captura desde 2024-02-01 20-21-49.png\n",
      " create mode 100644 Clase2/Captura desde 2024-02-01 20-23-32.png\n",
      " create mode 100644 Clase2/Clase2.ipynb\n",
      " create mode 100644 Clase2/Investigacion_GIT.ipynb\n",
      "Switched to branch 'main'\n",
      "Updating 909a87d..19350d9\n",
      "Fast-forward\n",
      " ...aptura desde 2024-02-01 20-23-32-checkpoint.png |  Bin \u001b[31m0\u001b[m -> \u001b[32m164208\u001b[m bytes\n",
      " Clase2/.ipynb_checkpoints/Clase2-checkpoint.ipynb  | 1256 \u001b[32m++++++++++++++++++++\u001b[m\n",
      " .../Investigacion_GIT-checkpoint.ipynb             |  465 \u001b[32m++++++++\u001b[m\n",
      " Clase2/Captura desde 2024-02-01 20-21-49.png       |  Bin \u001b[31m0\u001b[m -> \u001b[32m128253\u001b[m bytes\n",
      " Clase2/Captura desde 2024-02-01 20-23-32.png       |  Bin \u001b[31m0\u001b[m -> \u001b[32m164208\u001b[m bytes\n",
      " Clase2/Clase2.ipynb                                | 1256 \u001b[32m++++++++++++++++++++\u001b[m\n",
      " Clase2/Investigacion_GIT.ipynb                     |  465 \u001b[32m++++++++\u001b[m\n",
      " 7 files changed, 3442 insertions(+)\n",
      " create mode 100644 Clase2/.ipynb_checkpoints/Captura desde 2024-02-01 20-23-32-checkpoint.png\n",
      " create mode 100644 Clase2/.ipynb_checkpoints/Clase2-checkpoint.ipynb\n",
      " create mode 100644 Clase2/.ipynb_checkpoints/Investigacion_GIT-checkpoint.ipynb\n",
      " create mode 100644 Clase2/Captura desde 2024-02-01 20-21-49.png\n",
      " create mode 100644 Clase2/Captura desde 2024-02-01 20-23-32.png\n",
      " create mode 100644 Clase2/Clase2.ipynb\n",
      " create mode 100644 Clase2/Investigacion_GIT.ipynb\n",
      "\u001b[33mcommit 19350d9df8ca29d8893ae93bafdcca09b1d229b1\u001b[m\u001b[33m (\u001b[m\u001b[1;36mHEAD -> \u001b[m\u001b[1;32mmain\u001b[m\u001b[33m, \u001b[m\u001b[1;32mclase2\u001b[m\u001b[33m)\u001b[m\n",
      "Author: saullopezc <saullopezc@gmail.com>\n",
      "Date:   Fri Feb 2 03:00:55 2024 +0000\n",
      "\n",
      "    Archivos de la Clase2\n",
      "\n",
      "\u001b[33mcommit 909a87d6553c1757534013214ecbe5884c6ce7b8\u001b[m\u001b[33m (\u001b[m\u001b[1;32mnueva_rama\u001b[m\u001b[33m)\u001b[m\n",
      "Author: saullopezc <saullopezc@gmail.com>\n",
      "Date:   Fri Feb 2 02:45:22 2024 +0000\n",
      "\n",
      "    Cambios en la nueva rama\n",
      "\n",
      "\u001b[33mcommit 48a286c9ab357cf4f6b115a733203ea2a486c999\u001b[m\n",
      "Author: saullopezc <saullopezc@gmail.com>\n",
      "Date:   Fri Feb 2 02:45:17 2024 +0000\n",
      "\n",
      "    Primer commit\n"
     ]
    }
   ],
   "source": [
    "%cd /home/jovyan/repo\n",
    "!git status\n",
    "!git branch clase2\n",
    "!git checkout clase2\n",
    "!git add .\n",
    "!git commit -m \"Archivos de la Clase2\"\n",
    "!git checkout main \n",
    "!git merge clase2\n",
    "!git log\n",
    "\n",
    "!git remote add origin https://github.com/saullopezc/ciencia_datos_python.git\n",
    "#!git push -u origin main"
   ]
  },
  {
   "cell_type": "code",
   "execution_count": 4,
   "id": "ba76ad8e-257c-446d-ada4-3a79e72d1108",
   "metadata": {},
   "outputs": [
    {
     "name": "stdout",
     "output_type": "stream",
     "text": [
      "/home/jovyan\n"
     ]
    }
   ],
   "source": [
    "#%cd /home/jovyan\n",
    "#!mv /home/jovyan/repo/Clase2 /home/jovyan/\n",
    "#!rm -fr repo"
   ]
  }
 ],
 "metadata": {
  "kernelspec": {
   "display_name": "Python 3 (ipykernel)",
   "language": "python",
   "name": "python3"
  },
  "language_info": {
   "codemirror_mode": {
    "name": "ipython",
    "version": 3
   },
   "file_extension": ".py",
   "mimetype": "text/x-python",
   "name": "python",
   "nbconvert_exporter": "python",
   "pygments_lexer": "ipython3",
   "version": "3.11.7"
  }
 },
 "nbformat": 4,
 "nbformat_minor": 5
}
