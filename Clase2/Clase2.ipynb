{
 "cells": [
  {
   "cell_type": "markdown",
   "id": "6687aa0f-9f03-4d45-8045-ea7276d7a256",
   "metadata": {},
   "source": [
    "## 1. Operaciones Basicas"
   ]
  },
  {
   "cell_type": "code",
   "execution_count": 1,
   "id": "fd530b24-a63a-48f0-a4f8-9f21ed1b4068",
   "metadata": {},
   "outputs": [
    {
     "data": {
      "text/plain": [
       "7"
      ]
     },
     "execution_count": 1,
     "metadata": {},
     "output_type": "execute_result"
    }
   ],
   "source": [
    "2+5"
   ]
  },
  {
   "cell_type": "code",
   "execution_count": 2,
   "id": "4b941fb1-5be7-433a-b4b8-327072afe532",
   "metadata": {},
   "outputs": [
    {
     "data": {
      "text/plain": [
       "45"
      ]
     },
     "execution_count": 2,
     "metadata": {},
     "output_type": "execute_result"
    }
   ],
   "source": [
    "5*9"
   ]
  },
  {
   "cell_type": "code",
   "execution_count": 3,
   "id": "6104bd34-4bf3-446c-a3ac-703525a92853",
   "metadata": {},
   "outputs": [
    {
     "data": {
      "text/plain": [
       "-4"
      ]
     },
     "execution_count": 3,
     "metadata": {},
     "output_type": "execute_result"
    }
   ],
   "source": [
    "5-9"
   ]
  },
  {
   "cell_type": "code",
   "execution_count": 4,
   "id": "9cefb2c0-d88c-4f3a-abd4-c6324f67e092",
   "metadata": {},
   "outputs": [
    {
     "data": {
      "text/plain": [
       "1.75"
      ]
     },
     "execution_count": 4,
     "metadata": {},
     "output_type": "execute_result"
    }
   ],
   "source": [
    "7/4"
   ]
  },
  {
   "cell_type": "code",
   "execution_count": 5,
   "id": "2b70bb0b-4592-48d4-8087-47752e964adf",
   "metadata": {},
   "outputs": [
    {
     "data": {
      "text/plain": [
       "27"
      ]
     },
     "execution_count": 5,
     "metadata": {},
     "output_type": "execute_result"
    }
   ],
   "source": [
    "3**3"
   ]
  },
  {
   "cell_type": "code",
   "execution_count": 6,
   "id": "35bb5600-01c9-4e59-868a-0847341a6c52",
   "metadata": {},
   "outputs": [
    {
     "data": {
      "text/plain": [
       "6"
      ]
     },
     "execution_count": 6,
     "metadata": {},
     "output_type": "execute_result"
    }
   ],
   "source": [
    "27 % 7 # esto es una operacion de modulo"
   ]
  },
  {
   "cell_type": "code",
   "execution_count": 7,
   "id": "a3b68630-3407-4954-b47c-fdb0d1fbd36d",
   "metadata": {},
   "outputs": [
    {
     "data": {
      "text/plain": [
       "'\\nEsto es un comentario de \\nvarias lineas\\n'"
      ]
     },
     "execution_count": 7,
     "metadata": {},
     "output_type": "execute_result"
    }
   ],
   "source": [
    "'''\n",
    "Esto es un comentario de \n",
    "varias lineas\n",
    "'''"
   ]
  },
  {
   "cell_type": "code",
   "execution_count": 8,
   "id": "71180807-e286-47bf-9cd2-5cc117a8baf9",
   "metadata": {},
   "outputs": [
    {
     "data": {
      "text/plain": [
       "'\\nEsto es otro comentario de varias lineas\\n'"
      ]
     },
     "execution_count": 8,
     "metadata": {},
     "output_type": "execute_result"
    }
   ],
   "source": [
    "\"\"\"\n",
    "Esto es otro comentario de varias lineas\n",
    "\"\"\""
   ]
  },
  {
   "cell_type": "markdown",
   "id": "678cfac0-4ac6-4a5e-8cb3-6efba0c97277",
   "metadata": {},
   "source": [
    "## 2. Despliegue en pantalla."
   ]
  },
  {
   "cell_type": "code",
   "execution_count": 9,
   "id": "fc13952a-9511-458e-ad22-ca5d91b400cb",
   "metadata": {},
   "outputs": [
    {
     "name": "stdout",
     "output_type": "stream",
     "text": [
      "Hola a todos\n"
     ]
    }
   ],
   "source": [
    "print(\"Hola a todos\")"
   ]
  },
  {
   "cell_type": "code",
   "execution_count": 10,
   "id": "e234078a-7ef1-4ab4-a1b1-2f52d6f6c073",
   "metadata": {},
   "outputs": [],
   "source": [
    "a = \"Hola 'a' todos\""
   ]
  },
  {
   "cell_type": "code",
   "execution_count": 11,
   "id": "9f015b01-3630-4089-b949-6bc5762b81a5",
   "metadata": {},
   "outputs": [],
   "source": [
    "a = 'Hola \"a\" todos'"
   ]
  },
  {
   "cell_type": "code",
   "execution_count": 12,
   "id": "c720c945-6688-4f54-b288-174599a40e2e",
   "metadata": {},
   "outputs": [],
   "source": [
    "#\"hola a todos' ## Esta linea provoca error"
   ]
  },
  {
   "cell_type": "code",
   "execution_count": 13,
   "id": "19848d65-77b0-48f0-8590-8a10da95b6c0",
   "metadata": {},
   "outputs": [
    {
     "data": {
      "text/plain": [
       "'hola -hola -hola -hola -hola -'"
      ]
     },
     "execution_count": 13,
     "metadata": {},
     "output_type": "execute_result"
    }
   ],
   "source": [
    "'hola -' *5"
   ]
  },
  {
   "cell_type": "code",
   "execution_count": 14,
   "id": "1255ca84-7aa0-4502-aa07-8169d49aad21",
   "metadata": {},
   "outputs": [
    {
     "name": "stdout",
     "output_type": "stream",
     "text": [
      "El resultado es: cinco\n"
     ]
    }
   ],
   "source": [
    "print('El resultado es: '+ 'cinco')"
   ]
  },
  {
   "cell_type": "code",
   "execution_count": 15,
   "id": "4c73fef9-b9f8-4d16-bf2f-1dd5513949a9",
   "metadata": {},
   "outputs": [
    {
     "name": "stdout",
     "output_type": "stream",
     "text": [
      "El resultado es: 5\n"
     ]
    }
   ],
   "source": [
    "a = 5\n",
    "print('El resultado es: '+ str(a))"
   ]
  },
  {
   "cell_type": "code",
   "execution_count": 16,
   "id": "62525480-bcfe-401d-8b01-2311dc666044",
   "metadata": {},
   "outputs": [
    {
     "name": "stdout",
     "output_type": "stream",
     "text": [
      "El resultado es 5\n"
     ]
    }
   ],
   "source": [
    "print('El resultado es', a)"
   ]
  },
  {
   "cell_type": "code",
   "execution_count": 17,
   "id": "70b989c2-31a5-4d07-90e9-ef6c5db646df",
   "metadata": {},
   "outputs": [
    {
     "name": "stdout",
     "output_type": "stream",
     "text": [
      "El resultado es: 11\n"
     ]
    }
   ],
   "source": [
    "print(f'El resultado es: {5 + 6}')"
   ]
  },
  {
   "cell_type": "code",
   "execution_count": 18,
   "id": "b17f666a-cec6-4af4-8823-6be7006bfbc8",
   "metadata": {},
   "outputs": [
    {
     "name": "stdout",
     "output_type": "stream",
     "text": [
      "La suma de 5 + 3 es 8\n"
     ]
    }
   ],
   "source": [
    "a=5\n",
    "b=3\n",
    "c=a+b\n",
    "salida = f'La suma de {a} + {b} es {c}' #template literals.\n",
    "print(salida)"
   ]
  },
  {
   "cell_type": "code",
   "execution_count": 19,
   "id": "82b31cfd-3997-42ff-a0d9-0c266273af67",
   "metadata": {},
   "outputs": [
    {
     "name": "stdout",
     "output_type": "stream",
     "text": [
      "La suma de 5 + 3 es 8 \n"
     ]
    }
   ],
   "source": [
    "salida = \"La suma de {} + {} es {} \".format(a,b,c)\n",
    "print(salida)"
   ]
  },
  {
   "cell_type": "code",
   "execution_count": 20,
   "id": "2db38254-ace1-4074-962f-ff3987648e10",
   "metadata": {},
   "outputs": [
    {
     "name": "stdout",
     "output_type": "stream",
     "text": [
      "La suma de 5+3 es 8\n"
     ]
    }
   ],
   "source": [
    "salida = \"La suma de \" + str(a) + \"+\" + str(b) +  \" es \" + str(c)\n",
    "print(salida)"
   ]
  },
  {
   "cell_type": "code",
   "execution_count": 21,
   "id": "f47fdbbd-438d-415f-9b29-20533ddeb85d",
   "metadata": {},
   "outputs": [
    {
     "name": "stdin",
     "output_type": "stream",
     "text": [
      "Ingrese un numero:  1\n",
      "Ingrese otro numero:  5\n"
     ]
    },
    {
     "name": "stdout",
     "output_type": "stream",
     "text": [
      "La suma: 6\n"
     ]
    }
   ],
   "source": [
    "a = int(input(\"Ingrese un numero: \"))\n",
    "b = int(input(\"Ingrese otro numero: \"))\n",
    "print(f\"La suma: {a+b}\")"
   ]
  },
  {
   "cell_type": "markdown",
   "id": "f2fdd494-6213-4ff2-9659-f0190eb47ec5",
   "metadata": {},
   "source": [
    "## 3. Variables y Tipos de datos"
   ]
  },
  {
   "cell_type": "code",
   "execution_count": 22,
   "id": "950a93e5-3391-4549-ad81-3d6bb777fd86",
   "metadata": {},
   "outputs": [],
   "source": [
    "#### 3.1 Strings"
   ]
  },
  {
   "cell_type": "code",
   "execution_count": 23,
   "id": "85424b04-93b0-44d5-854e-c36ef6e8d03f",
   "metadata": {},
   "outputs": [
    {
     "data": {
      "text/plain": [
       "'Esto es un string'"
      ]
     },
     "execution_count": 23,
     "metadata": {},
     "output_type": "execute_result"
    }
   ],
   "source": [
    "miString = \"Esto es un string\"\n",
    "miString"
   ]
  },
  {
   "cell_type": "code",
   "execution_count": 24,
   "id": "18dc7599-c7bf-4e21-b49b-5169fd6c6284",
   "metadata": {},
   "outputs": [
    {
     "data": {
      "text/plain": [
       "'E'"
      ]
     },
     "execution_count": 24,
     "metadata": {},
     "output_type": "execute_result"
    }
   ],
   "source": [
    "miString[0]"
   ]
  },
  {
   "cell_type": "code",
   "execution_count": 25,
   "id": "e9d4f5db-696b-48fc-b7a5-f13b9516ae7f",
   "metadata": {},
   "outputs": [
    {
     "data": {
      "text/plain": [
       "'Esto es u'"
      ]
     },
     "execution_count": 25,
     "metadata": {},
     "output_type": "execute_result"
    }
   ],
   "source": [
    "miString[0:9] #no incluye el limite superior del substring"
   ]
  },
  {
   "cell_type": "code",
   "execution_count": 26,
   "id": "2e1abbf4-f044-4ba8-9dc6-06cdb6dd3a17",
   "metadata": {},
   "outputs": [
    {
     "data": {
      "text/plain": [
       "'string'"
      ]
     },
     "execution_count": 26,
     "metadata": {},
     "output_type": "execute_result"
    }
   ],
   "source": [
    "miString[-6:]"
   ]
  },
  {
   "cell_type": "code",
   "execution_count": 27,
   "id": "2ced3cb1-98a9-44b6-ab2c-e99616412651",
   "metadata": {},
   "outputs": [
    {
     "data": {
      "text/plain": [
       "'es un string'"
      ]
     },
     "execution_count": 27,
     "metadata": {},
     "output_type": "execute_result"
    }
   ],
   "source": [
    "miString[5:]"
   ]
  },
  {
   "cell_type": "code",
   "execution_count": 28,
   "id": "5a370764-0b32-4ad2-a5a1-b11f3a003584",
   "metadata": {},
   "outputs": [
    {
     "data": {
      "text/plain": [
       "'Esto es u'"
      ]
     },
     "execution_count": 28,
     "metadata": {},
     "output_type": "execute_result"
    }
   ],
   "source": [
    "miString[:9]"
   ]
  },
  {
   "cell_type": "markdown",
   "id": "e1b11828-7717-46d5-aa29-c3cc900c0578",
   "metadata": {},
   "source": [
    "#### 3.2 Enteros"
   ]
  },
  {
   "cell_type": "code",
   "execution_count": 29,
   "id": "982323c6-ae66-4d45-83f5-71d65f8e0449",
   "metadata": {},
   "outputs": [
    {
     "data": {
      "text/plain": [
       "int"
      ]
     },
     "execution_count": 29,
     "metadata": {},
     "output_type": "execute_result"
    }
   ],
   "source": [
    "entero = 5\n",
    "type(entero)"
   ]
  },
  {
   "cell_type": "code",
   "execution_count": 30,
   "id": "c47d2ec0-d720-4cb6-9b72-133f5d9c9138",
   "metadata": {},
   "outputs": [
    {
     "data": {
      "text/plain": [
       "float"
      ]
     },
     "execution_count": 30,
     "metadata": {},
     "output_type": "execute_result"
    }
   ],
   "source": [
    "a = 2.656556\n",
    "type(a)"
   ]
  },
  {
   "cell_type": "code",
   "execution_count": 31,
   "id": "3e97be3a-e7d9-43aa-8cfd-de4aca859833",
   "metadata": {},
   "outputs": [
    {
     "data": {
      "text/plain": [
       "int"
      ]
     },
     "execution_count": 31,
     "metadata": {},
     "output_type": "execute_result"
    }
   ],
   "source": [
    "type(int(a))"
   ]
  },
  {
   "cell_type": "code",
   "execution_count": 32,
   "id": "4b09d086-1dd6-4355-849c-e1d669770065",
   "metadata": {},
   "outputs": [],
   "source": [
    "#int(\"hola\") ##Esta linea provoca error"
   ]
  },
  {
   "cell_type": "code",
   "execution_count": 33,
   "id": "25a8c441-3cb4-471a-b85e-7703219d73bf",
   "metadata": {},
   "outputs": [
    {
     "data": {
      "text/plain": [
       "float"
      ]
     },
     "execution_count": 33,
     "metadata": {},
     "output_type": "execute_result"
    }
   ],
   "source": [
    "b = 8.64584952165\n",
    "type(b)"
   ]
  },
  {
   "cell_type": "code",
   "execution_count": 34,
   "id": "c56647ec-d524-4deb-ae5b-9f3d47515180",
   "metadata": {},
   "outputs": [
    {
     "name": "stdout",
     "output_type": "stream",
     "text": [
      "Hola 8.65\n"
     ]
    }
   ],
   "source": [
    "print(f\"Hola {b:.2f}\")"
   ]
  },
  {
   "cell_type": "code",
   "execution_count": 35,
   "id": "6bb8d03b-9944-40df-a154-fb9104c67ae3",
   "metadata": {},
   "outputs": [
    {
     "data": {
      "text/plain": [
       "25615.156"
      ]
     },
     "execution_count": 35,
     "metadata": {},
     "output_type": "execute_result"
    }
   ],
   "source": [
    "a = '25615.156'\n",
    "float(a)"
   ]
  },
  {
   "cell_type": "markdown",
   "id": "3695e15e-b291-4a25-8f69-2f29e8374e07",
   "metadata": {},
   "source": [
    "#### 3.3 Booleanos"
   ]
  },
  {
   "cell_type": "code",
   "execution_count": 36,
   "id": "7804d686-d219-47dd-ab05-611cd5f5afc4",
   "metadata": {},
   "outputs": [],
   "source": [
    "a = True\n",
    "b = False"
   ]
  },
  {
   "cell_type": "code",
   "execution_count": 37,
   "id": "d5754bbe-1a31-4a18-944e-5acecf3ddc54",
   "metadata": {},
   "outputs": [
    {
     "data": {
      "text/plain": [
       "bool"
      ]
     },
     "execution_count": 37,
     "metadata": {},
     "output_type": "execute_result"
    }
   ],
   "source": [
    "type(b)"
   ]
  },
  {
   "cell_type": "code",
   "execution_count": 38,
   "id": "5586eb25-a55d-4d92-9759-2d3753fea1ec",
   "metadata": {},
   "outputs": [
    {
     "data": {
      "text/plain": [
       "False"
      ]
     },
     "execution_count": 38,
     "metadata": {},
     "output_type": "execute_result"
    }
   ],
   "source": [
    "a & b"
   ]
  },
  {
   "cell_type": "code",
   "execution_count": 39,
   "id": "a42617cb-8b7a-4057-9b9c-4f836d6d09b1",
   "metadata": {},
   "outputs": [
    {
     "data": {
      "text/plain": [
       "True"
      ]
     },
     "execution_count": 39,
     "metadata": {},
     "output_type": "execute_result"
    }
   ],
   "source": [
    "a | b"
   ]
  },
  {
   "cell_type": "code",
   "execution_count": 40,
   "id": "a7d654f6-1274-469e-be39-2fef5e704f89",
   "metadata": {},
   "outputs": [
    {
     "data": {
      "text/plain": [
       "False"
      ]
     },
     "execution_count": 40,
     "metadata": {},
     "output_type": "execute_result"
    }
   ],
   "source": [
    "not(a)"
   ]
  },
  {
   "cell_type": "markdown",
   "id": "a1940025-3952-459f-bc87-1437205b2c4c",
   "metadata": {},
   "source": [
    "## 4. Condicionales"
   ]
  },
  {
   "cell_type": "code",
   "execution_count": 41,
   "id": "24f86c6c-eae6-4df9-8a34-1397fe97d391",
   "metadata": {},
   "outputs": [
    {
     "data": {
      "text/plain": [
       "True"
      ]
     },
     "execution_count": 41,
     "metadata": {},
     "output_type": "execute_result"
    }
   ],
   "source": [
    "42 == 42 #Operacion de comparacion no asignacion"
   ]
  },
  {
   "cell_type": "code",
   "execution_count": 42,
   "id": "427c23c8-64d3-49fe-bbad-34b397f9c85b",
   "metadata": {},
   "outputs": [
    {
     "data": {
      "text/plain": [
       "False"
      ]
     },
     "execution_count": 42,
     "metadata": {},
     "output_type": "execute_result"
    }
   ],
   "source": [
    "40 == 42"
   ]
  },
  {
   "cell_type": "code",
   "execution_count": 43,
   "id": "4ee4ae1d-b239-486a-a0e9-ddca9a4b59d1",
   "metadata": {},
   "outputs": [
    {
     "data": {
      "text/plain": [
       "True"
      ]
     },
     "execution_count": 43,
     "metadata": {},
     "output_type": "execute_result"
    }
   ],
   "source": [
    "\"Hola\" == 'Hola'"
   ]
  },
  {
   "cell_type": "code",
   "execution_count": 44,
   "id": "be639920-f090-43b6-8589-c41e0f06035c",
   "metadata": {},
   "outputs": [
    {
     "data": {
      "text/plain": [
       "False"
      ]
     },
     "execution_count": 44,
     "metadata": {},
     "output_type": "execute_result"
    }
   ],
   "source": [
    "\"Hola\" != 'Hola' #diferencia entre valores"
   ]
  },
  {
   "cell_type": "code",
   "execution_count": 45,
   "id": "5ce9bcea-cc2c-4e99-93e2-5912f6e098e2",
   "metadata": {},
   "outputs": [
    {
     "name": "stdin",
     "output_type": "stream",
     "text": [
      "Ingrese un numero:  5\n"
     ]
    },
    {
     "name": "stdout",
     "output_type": "stream",
     "text": [
      "No es cero\n",
      "otra cosa\n"
     ]
    }
   ],
   "source": [
    "numero = int(input(\"Ingrese un numero: \"))\n",
    "if (numero != 0):\n",
    "    print(\"No es cero\")\n",
    "    print(\"otra cosa\")\n",
    "    \n",
    "else:\n",
    "    print(\"Es Cero\")"
   ]
  },
  {
   "cell_type": "code",
   "execution_count": 46,
   "id": "01ee5e08-6044-487d-b9d8-a8a2ad38722e",
   "metadata": {},
   "outputs": [
    {
     "name": "stdin",
     "output_type": "stream",
     "text": [
      "Ingrese un numero de dia:  4\n"
     ]
    },
    {
     "name": "stdout",
     "output_type": "stream",
     "text": [
      "El dia es Jueves\n"
     ]
    }
   ],
   "source": [
    "dia = int(input(\"Ingrese un numero de dia: \"))\n",
    "if ((dia >=1 and dia <=7)):\n",
    "    if dia == 1:\n",
    "        dia_str = \"Lunes\"\n",
    "    elif dia == 2:\n",
    "        dia_str = \"Martes\" \n",
    "    elif dia == 3:\n",
    "        dia_str = \"Miercoles\"\n",
    "    elif dia == 4:\n",
    "        dia_str = \"Jueves\"\n",
    "    elif dia == 5:\n",
    "        dia_str = \"Viernes\"\n",
    "    else:\n",
    "        dia_str = \"Fin de semana\"\n",
    "            \n",
    "    print(\"El dia es \" + dia_str)\n",
    "else:\n",
    "    print (\"Ingrese un dia correcto\")\n"
   ]
  },
  {
   "cell_type": "markdown",
   "id": "0d2a9138-4fdc-4d7f-8d92-bb53a03ec4ab",
   "metadata": {},
   "source": [
    "## 5. Ciclos"
   ]
  },
  {
   "cell_type": "code",
   "execution_count": 47,
   "id": "563ce71f-27ef-4f93-a627-da40879b6792",
   "metadata": {},
   "outputs": [
    {
     "name": "stdin",
     "output_type": "stream",
     "text": [
      "Ingrese un numero del 1 al 20:  2\n",
      "Ingrese un numero del 1 al 20:  10\n"
     ]
    },
    {
     "name": "stdout",
     "output_type": "stream",
     "text": [
      "saliendo ...\n"
     ]
    }
   ],
   "source": [
    "valor_secreto = 10\n",
    "valor = 0\n",
    "while (valor != valor_secreto):\n",
    "    valor = int(input(\"Ingrese un numero del 1 al 20: \"))\n",
    "\n",
    "print(\"saliendo ...\")"
   ]
  },
  {
   "cell_type": "code",
   "execution_count": 48,
   "id": "255d2448-5f73-4777-a82e-b698db97383a",
   "metadata": {},
   "outputs": [
    {
     "name": "stdin",
     "output_type": "stream",
     "text": [
      "Ingrese un numero:  6\n"
     ]
    },
    {
     "name": "stdout",
     "output_type": "stream",
     "text": [
      "El acumulado es: 6\n"
     ]
    },
    {
     "name": "stdin",
     "output_type": "stream",
     "text": [
      "Ingrese un numero:  62\n"
     ]
    },
    {
     "name": "stdout",
     "output_type": "stream",
     "text": [
      "El acumulado es: 68\n"
     ]
    },
    {
     "name": "stdin",
     "output_type": "stream",
     "text": [
      "Ingrese un numero:  92\n"
     ]
    },
    {
     "name": "stdout",
     "output_type": "stream",
     "text": [
      "El acumulado es: 160\n",
      "Saliendo ...\n"
     ]
    }
   ],
   "source": [
    "acc = 0\n",
    "while True:\n",
    "    nuevo = int(input(\"Ingrese un numero: \"))\n",
    "    acc = acc + nuevo\n",
    "    print(f\"El acumulado es: {acc}\")\n",
    "    if (acc >= 100):\n",
    "        print(\"Saliendo ...\")\n",
    "        break\n"
   ]
  },
  {
   "cell_type": "code",
   "execution_count": 49,
   "id": "9614a520-04d6-4a54-a982-ee31165f2778",
   "metadata": {},
   "outputs": [],
   "source": [
    "## 6. Excepciones"
   ]
  },
  {
   "cell_type": "code",
   "execution_count": 50,
   "id": "bfec8835-fa74-421a-87ab-bdc4b7cfaf9b",
   "metadata": {},
   "outputs": [
    {
     "name": "stdin",
     "output_type": "stream",
     "text": [
      "Ingrese un numero: 26\n",
      "Ingrese otro numero: 2\n"
     ]
    },
    {
     "name": "stdout",
     "output_type": "stream",
     "text": [
      "El resultado es:  13.0\n"
     ]
    }
   ],
   "source": [
    "try:\n",
    "    A = float(input(\"Ingrese un numero:\"))\n",
    "    B = float(input(\"Ingrese otro numero:\"))\n",
    "\n",
    "    C= A/B\n",
    "    print(\"El resultado es: \", C)\n",
    "except ValueError:\n",
    "    print(\"Error ingreso una letra\")\n",
    "\n",
    "except ZeroDivisionError:\n",
    "    print(\"Error - division por cero\")\n",
    "\n",
    "except Exception as ex:\n",
    "    print(\"Error :\", ex)\n",
    "    "
   ]
  },
  {
   "cell_type": "code",
   "execution_count": 51,
   "id": "8e335c7d-edf6-42df-83c7-22be3fadc9eb",
   "metadata": {},
   "outputs": [
    {
     "name": "stdin",
     "output_type": "stream",
     "text": [
      "Ingrese un numero: 0\n",
      "Ingrese otro numero: 0\n"
     ]
    },
    {
     "name": "stdout",
     "output_type": "stream",
     "text": [
      "Error : float division by zero\n"
     ]
    }
   ],
   "source": [
    "try:\n",
    "    A = float(input(\"Ingrese un numero:\"))\n",
    "    B = float(input(\"Ingrese otro numero:\"))\n",
    "\n",
    "    C= A/B\n",
    "    print(\"El resultado es: \", C)\n",
    "except Exception as ex:\n",
    "    print(\"Error :\", ex)"
   ]
  },
  {
   "cell_type": "code",
   "execution_count": 52,
   "id": "a0cb6c6d-25d0-4a30-9bda-b6daabc03184",
   "metadata": {},
   "outputs": [
    {
     "name": "stdin",
     "output_type": "stream",
     "text": [
      "Ingrese un numero:  .\n"
     ]
    },
    {
     "name": "stdout",
     "output_type": "stream",
     "text": [
      "0\n",
      "Error - Ingreso una letra\n",
      "El acumulado es: 0\n"
     ]
    }
   ],
   "source": [
    "acc = 0\n",
    "while True:\n",
    "    try:    \n",
    "        nuevo = int(input(\"Ingrese un numero: \"))\n",
    "        acc = acc + nuevo\n",
    "        if (acc >= 100):\n",
    "            print(\"Saliendo ...\")\n",
    "            break\n",
    "    except ValueError:\n",
    "        print(acc)\n",
    "        print(\"Error - Ingreso una letra\")\n",
    "        break\n",
    "    finally:\n",
    "        print(f\"El acumulado es: {acc}\")"
   ]
  },
  {
   "cell_type": "markdown",
   "id": "07c36758-88ba-4691-b904-cd99d1e1a7ed",
   "metadata": {},
   "source": [
    "## - Magic Cell"
   ]
  },
  {
   "cell_type": "code",
   "execution_count": 55,
   "id": "25edeb7c-2f67-4dc4-a19f-01af3f1a3f07",
   "metadata": {},
   "outputs": [
    {
     "name": "stdout",
     "output_type": "stream",
     "text": [
      "total 987712\n",
      "-rw-rw-r-- 1 jovyan  1000 638816658 Jan 30 03:17 GMT20240123-000103_Recording_1920x1080.mp4\n",
      "-rw-rw-r-- 1 jovyan  1000 372556480 Jan 30 04:02 GMT20240130-000305_Recording_1920x1140.mp4\n",
      "-rwxrw-r-- 1 jovyan  1000       107 Jan 30 05:25 jupyter.sh\n",
      "-rw-r--r-- 1 jovyan users     23518 Jan 31 00:18 Clase2.ipynb\n"
     ]
    }
   ],
   "source": [
    "!ls -ltr"
   ]
  }
 ],
 "metadata": {
  "kernelspec": {
   "display_name": "Python 3 (ipykernel)",
   "language": "python",
   "name": "python3"
  },
  "language_info": {
   "codemirror_mode": {
    "name": "ipython",
    "version": 3
   },
   "file_extension": ".py",
   "mimetype": "text/x-python",
   "name": "python",
   "nbconvert_exporter": "python",
   "pygments_lexer": "ipython3",
   "version": "3.11.7"
  }
 },
 "nbformat": 4,
 "nbformat_minor": 5
}
