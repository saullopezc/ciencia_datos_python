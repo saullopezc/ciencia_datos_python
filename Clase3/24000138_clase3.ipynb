{
 "cells": [
  {
   "cell_type": "markdown",
   "id": "b79a0a4e-a5c2-4878-811f-5164c938116f",
   "metadata": {},
   "source": [
    "## Clase 3 2024-02-05\n",
    "### 1. Funciones"
   ]
  },
  {
   "cell_type": "code",
   "execution_count": 9,
   "id": "b88f0b0b-1ae4-42a0-aa80-bac8172b71e4",
   "metadata": {},
   "outputs": [],
   "source": [
    "def saludo():\n",
    "    #1/0^-1\n",
    "    print(\"hola a todos\")"
   ]
  },
  {
   "cell_type": "code",
   "execution_count": 10,
   "id": "7e7a4c2c-7521-448c-b2cb-eaeabd4202f5",
   "metadata": {},
   "outputs": [
    {
     "name": "stdout",
     "output_type": "stream",
     "text": [
      "hola a todos\n"
     ]
    }
   ],
   "source": [
    "saludo()"
   ]
  },
  {
   "cell_type": "code",
   "execution_count": 15,
   "id": "38a94efa-e0fa-4eaa-8e5d-0c79b3e6c7c5",
   "metadata": {},
   "outputs": [],
   "source": [
    "def saludar_nombre(nombre, edad, profesion):\n",
    "    print(f\"Hola {nombre} tienes {edad:02} de edad y eres {profesion}\")"
   ]
  },
  {
   "cell_type": "code",
   "execution_count": 18,
   "id": "2740954d-0283-4107-b2c9-084e5cb75558",
   "metadata": {},
   "outputs": [
    {
     "name": "stdout",
     "output_type": "stream",
     "text": [
      "Hola Saul tienes 33 de edad y eres Ingeniero\n"
     ]
    }
   ],
   "source": [
    "saludar_nombre(\"Saul\", 33, \"Ingeniero\")"
   ]
  },
  {
   "cell_type": "code",
   "execution_count": 26,
   "id": "107dc1e8-0527-4797-bf3e-51a55c97d70a",
   "metadata": {},
   "outputs": [],
   "source": [
    "def saludar_nombre(nombre, edad, profesion, pais=\"Guatemala\", ciudad=\"GT\"):\n",
    "    print(f\"Hola {nombre} tienes {edad:02} de edad y eres {profesion} de {pais} y vives en {ciudad}\")"
   ]
  },
  {
   "cell_type": "code",
   "execution_count": 27,
   "id": "ad051239-35b4-4872-b403-92d0d9f2fb39",
   "metadata": {},
   "outputs": [
    {
     "name": "stdout",
     "output_type": "stream",
     "text": [
      "Hola Saul tienes 33 de edad y eres Ingeniero de Marte y vives en fweff\n"
     ]
    }
   ],
   "source": [
    "saludar_nombre(\"Saul\", 33, \"Ingeniero\", \"Marte\",\"fweff\")"
   ]
  },
  {
   "cell_type": "code",
   "execution_count": 28,
   "id": "6b897cb8-485b-49b8-88fd-21c36d186a25",
   "metadata": {},
   "outputs": [
    {
     "name": "stdout",
     "output_type": "stream",
     "text": [
      "Hola Saul tienes 33 de edad y eres Ingeniero de Guatemala y vives en GT\n"
     ]
    }
   ],
   "source": [
    "saludar_nombre(\"Saul\", 33, \"Ingeniero\")"
   ]
  },
  {
   "cell_type": "markdown",
   "id": "f3eefbbf-5769-4640-a191-275bd73ec681",
   "metadata": {},
   "source": [
    "1. Los parametros con valores default deben estart despues de los parametros no default\n",
    "2. Se puede declarar parametros default con el valor de tipo None (null)\n"
   ]
  },
  {
   "cell_type": "code",
   "execution_count": 32,
   "id": "e73ba810-e87a-46fb-8d9f-6e6f8298dfb9",
   "metadata": {},
   "outputs": [],
   "source": [
    "def suma(a, b):\n",
    "    print(\"suma simple\")\n",
    "    return a + b"
   ]
  },
  {
   "cell_type": "code",
   "execution_count": 33,
   "id": "57b0d4b3-cfd5-40f2-bc9a-0b96ce83dc9f",
   "metadata": {},
   "outputs": [
    {
     "name": "stdout",
     "output_type": "stream",
     "text": [
      "suma simple\n"
     ]
    },
    {
     "data": {
      "text/plain": [
       "31"
      ]
     },
     "execution_count": 33,
     "metadata": {},
     "output_type": "execute_result"
    }
   ],
   "source": [
    "suma(25,6)"
   ]
  },
  {
   "cell_type": "code",
   "execution_count": 40,
   "id": "d748fd0c-4cd2-48fd-810a-c3a4b9d9e51f",
   "metadata": {},
   "outputs": [],
   "source": [
    "def sumar(a: int, b:int) -> int:\n",
    "    print(\"division con int\")\n",
    "    return a / b"
   ]
  },
  {
   "cell_type": "code",
   "execution_count": 41,
   "id": "0fcb74ac-69d3-4105-a57a-16f70931ec75",
   "metadata": {},
   "outputs": [
    {
     "name": "stdout",
     "output_type": "stream",
     "text": [
      "division con int\n"
     ]
    },
    {
     "data": {
      "text/plain": [
       "4.166666666666667"
      ]
     },
     "execution_count": 41,
     "metadata": {},
     "output_type": "execute_result"
    }
   ],
   "source": [
    "sumar(25,6)"
   ]
  },
  {
   "cell_type": "code",
   "execution_count": 44,
   "id": "7d17eaf6-9795-4966-a423-415d9e2e5d34",
   "metadata": {},
   "outputs": [],
   "source": [
    "def operar(a,b):\n",
    "    suma = a + b\n",
    "    resta = a - b\n",
    "    division = a / b\n",
    "    multiplicacion = a * b\n",
    "\n",
    "    return suma, resta, division, multiplicacion"
   ]
  },
  {
   "cell_type": "code",
   "execution_count": 47,
   "id": "64a17e9c-0170-4081-a693-d67451a442cb",
   "metadata": {},
   "outputs": [
    {
     "data": {
      "text/plain": [
       "(13, -3, 0.625, 40)"
      ]
     },
     "execution_count": 47,
     "metadata": {},
     "output_type": "execute_result"
    }
   ],
   "source": [
    "sum, rest, divi, mult = operar(5,8)\n",
    "sum, rest, divi, mult"
   ]
  },
  {
   "cell_type": "code",
   "execution_count": 48,
   "id": "a47ac0e1-09c3-4fa9-ad67-b87beeb0fe53",
   "metadata": {},
   "outputs": [
    {
     "data": {
      "text/plain": [
       "13"
      ]
     },
     "execution_count": 48,
     "metadata": {},
     "output_type": "execute_result"
    }
   ],
   "source": [
    "sum, x, x, x = operar(5,8)\n",
    "sum"
   ]
  },
  {
   "cell_type": "markdown",
   "id": "c4408740-4940-406c-aed9-1d811bbef48c",
   "metadata": {},
   "source": [
    "### 2. Lista\n",
    "1. Indexables\n",
    "2. Dinamicas\n",
    "3. Mismo tipo de dato"
   ]
  },
  {
   "cell_type": "code",
   "execution_count": 52,
   "id": "7e1cd0cd-18a5-46b2-ab2b-e0061c977407",
   "metadata": {},
   "outputs": [
    {
     "data": {
      "text/plain": [
       "[10, 20, 30, 40, 50, 'U']"
      ]
     },
     "execution_count": 52,
     "metadata": {},
     "output_type": "execute_result"
    }
   ],
   "source": [
    "lista = [10, 20, 30, 40, 50, \"U\"]\n",
    "lista"
   ]
  },
  {
   "cell_type": "code",
   "execution_count": 53,
   "id": "52e446da-f796-409b-b102-e945051204fd",
   "metadata": {},
   "outputs": [
    {
     "data": {
      "text/plain": [
       "6"
      ]
     },
     "execution_count": 53,
     "metadata": {},
     "output_type": "execute_result"
    }
   ],
   "source": [
    "len(lista)"
   ]
  },
  {
   "cell_type": "code",
   "execution_count": 54,
   "id": "b59b1c66-0c4e-4f21-9b80-b3a52b571f5a",
   "metadata": {},
   "outputs": [
    {
     "data": {
      "text/plain": [
       "'U'"
      ]
     },
     "execution_count": 54,
     "metadata": {},
     "output_type": "execute_result"
    }
   ],
   "source": [
    "lista[-1]"
   ]
  },
  {
   "cell_type": "code",
   "execution_count": 55,
   "id": "7676f02e-3b37-4826-ab21-4843a1793184",
   "metadata": {},
   "outputs": [
    {
     "data": {
      "text/plain": [
       "[10, 20, 30, 40, 50, 'U', 60]"
      ]
     },
     "execution_count": 55,
     "metadata": {},
     "output_type": "execute_result"
    }
   ],
   "source": [
    "lista.append(60)\n",
    "lista"
   ]
  },
  {
   "cell_type": "code",
   "execution_count": 56,
   "id": "d678c979-e70f-48e0-a563-5d6c394bee8e",
   "metadata": {},
   "outputs": [],
   "source": [
    "lista.insert(2, 'IIO')"
   ]
  },
  {
   "cell_type": "code",
   "execution_count": 57,
   "id": "9ed5828a-6ca4-4bf5-af98-b234710c9163",
   "metadata": {},
   "outputs": [
    {
     "data": {
      "text/plain": [
       "[10, 20, 'IIO', 30, 40, 50, 'U', 60]"
      ]
     },
     "execution_count": 57,
     "metadata": {},
     "output_type": "execute_result"
    }
   ],
   "source": [
    "lista"
   ]
  },
  {
   "cell_type": "code",
   "execution_count": 58,
   "id": "0a61a5af-91b6-40a3-bbc0-34a5cbca5727",
   "metadata": {},
   "outputs": [
    {
     "name": "stdout",
     "output_type": "stream",
     "text": [
      "20\n"
     ]
    }
   ],
   "source": [
    "a = lista.pop(1)\n",
    "print(a)"
   ]
  },
  {
   "cell_type": "code",
   "execution_count": 59,
   "id": "9873de2c-9fb2-403e-9e8d-95aaff1bd38b",
   "metadata": {},
   "outputs": [
    {
     "data": {
      "text/plain": [
       "[10, 'IIO', 30, 40, 50, 'U']"
      ]
     },
     "execution_count": 59,
     "metadata": {},
     "output_type": "execute_result"
    }
   ],
   "source": [
    "lista.remove(60)\n",
    "lista"
   ]
  },
  {
   "cell_type": "markdown",
   "id": "2732a6c3-2a4d-4f47-9fc0-10a4e3dd63d3",
   "metadata": {},
   "source": [
    "**Nota:** _in_ Busca elementos dentro de una etructura indexable, funciona mejor que una busqueda directa con ciclos"
   ]
  },
  {
   "cell_type": "code",
   "execution_count": 60,
   "id": "5bf33092-a2de-4906-8851-6c39ef5d7a38",
   "metadata": {},
   "outputs": [
    {
     "name": "stdout",
     "output_type": "stream",
     "text": [
      "eliminando un 60\n",
      "eliminando un 60\n",
      "eliminando un 60\n"
     ]
    },
    {
     "data": {
      "text/plain": [
       "[20]"
      ]
     },
     "execution_count": 60,
     "metadata": {},
     "output_type": "execute_result"
    }
   ],
   "source": [
    "lista1 = [60, 20, 60, 60]\n",
    "while (60 in lista1):\n",
    "    print(\"eliminando un 60\")\n",
    "    lista1.remove(60)\n",
    "\n",
    "lista1"
   ]
  },
  {
   "cell_type": "code",
   "execution_count": 61,
   "id": "237261cb-1606-4f81-9d35-c877afa633fc",
   "metadata": {},
   "outputs": [
    {
     "data": {
      "text/plain": [
       "[10, 'IIO', 30, 50, 'U']"
      ]
     },
     "execution_count": 61,
     "metadata": {},
     "output_type": "execute_result"
    }
   ],
   "source": [
    "del lista[3]\n",
    "lista"
   ]
  },
  {
   "cell_type": "code",
   "execution_count": 62,
   "id": "91cdef3a-c9cf-44b4-99d6-8c3b77ace087",
   "metadata": {},
   "outputs": [
    {
     "data": {
      "text/plain": [
       "['IIO', 30, 50]"
      ]
     },
     "execution_count": 62,
     "metadata": {},
     "output_type": "execute_result"
    }
   ],
   "source": [
    "lista[1:4] #no incluimos limite superior"
   ]
  },
  {
   "cell_type": "code",
   "execution_count": 63,
   "id": "5d80ab42-50da-457b-8a7a-2fba7f0c4ec3",
   "metadata": {},
   "outputs": [
    {
     "data": {
      "text/plain": [
       "['IIO', 50]"
      ]
     },
     "execution_count": 63,
     "metadata": {},
     "output_type": "execute_result"
    }
   ],
   "source": [
    "lista[1:6:2]"
   ]
  },
  {
   "cell_type": "code",
   "execution_count": 64,
   "id": "1dc68b80-d236-4d24-a2ce-37fd523f40a9",
   "metadata": {},
   "outputs": [
    {
     "data": {
      "text/plain": [
       "['U', 50, 30, 'IIO', 10]"
      ]
     },
     "execution_count": 64,
     "metadata": {},
     "output_type": "execute_result"
    }
   ],
   "source": [
    "lista[::-1]"
   ]
  },
  {
   "cell_type": "code",
   "execution_count": 68,
   "id": "1a009f11-3364-48bc-8650-8d9ce93cc481",
   "metadata": {},
   "outputs": [
    {
     "data": {
      "text/plain": [
       "[10, 'IIO', 30, 50, 'U']"
      ]
     },
     "execution_count": 68,
     "metadata": {},
     "output_type": "execute_result"
    }
   ],
   "source": [
    "lista.reverse()\n",
    "lista"
   ]
  },
  {
   "cell_type": "code",
   "execution_count": 71,
   "id": "bed96671-2df8-4384-914a-81c1ccadcebb",
   "metadata": {},
   "outputs": [
    {
     "data": {
      "text/plain": [
       "[50, 40, 30, 20, 10]"
      ]
     },
     "execution_count": 71,
     "metadata": {},
     "output_type": "execute_result"
    }
   ],
   "source": [
    "lista_int = [10, 20, 30, 40, 50]\n",
    "lista_int.sort(reverse=True)\n",
    "lista_int"
   ]
  },
  {
   "cell_type": "code",
   "execution_count": 72,
   "id": "84651edb-a720-4da5-971a-0a526512d418",
   "metadata": {},
   "outputs": [
    {
     "data": {
      "text/plain": [
       "3"
      ]
     },
     "execution_count": 72,
     "metadata": {},
     "output_type": "execute_result"
    }
   ],
   "source": [
    "lista.index(50)"
   ]
  },
  {
   "cell_type": "code",
   "execution_count": 74,
   "id": "da816ee4-7ebd-4148-8450-f8d83bd8e36b",
   "metadata": {},
   "outputs": [
    {
     "data": {
      "text/plain": [
       "1"
      ]
     },
     "execution_count": 74,
     "metadata": {},
     "output_type": "execute_result"
    }
   ],
   "source": [
    "lista.count(50)"
   ]
  },
  {
   "cell_type": "markdown",
   "id": "c9e9dd34-034e-4be8-b3ea-b1d7806e2d4a",
   "metadata": {},
   "source": [
    "### 3. Ciclo for"
   ]
  },
  {
   "cell_type": "code",
   "execution_count": 76,
   "id": "a6879162-1617-4b61-8ae3-af26f7dd9d14",
   "metadata": {},
   "outputs": [
    {
     "name": "stdout",
     "output_type": "stream",
     "text": [
      "50\n",
      "20\n",
      "30\n",
      "80\n",
      "90\n",
      "120\n"
     ]
    }
   ],
   "source": [
    "lista = [50, 20, 30, 80, 90, 120]\n",
    "for valor in lista:\n",
    "    print(valor)"
   ]
  },
  {
   "cell_type": "code",
   "execution_count": 82,
   "id": "b2ea7f8a-f92a-4961-9716-742a65d91135",
   "metadata": {},
   "outputs": [
    {
     "name": "stdout",
     "output_type": "stream",
     "text": [
      "0\n",
      "100\n",
      "200\n",
      "300\n",
      "400\n",
      "500\n",
      "600\n",
      "700\n",
      "800\n",
      "900\n"
     ]
    }
   ],
   "source": [
    "for i in range(0,1000,100):\n",
    "    print(i)"
   ]
  },
  {
   "cell_type": "code",
   "execution_count": 84,
   "id": "93a95d3a-9f63-4167-8257-3799660bad74",
   "metadata": {},
   "outputs": [
    {
     "name": "stdout",
     "output_type": "stream",
     "text": [
      "El valor del indice 0 es 50\n",
      "El valor del indice 1 es 20\n",
      "El valor del indice 2 es 30\n",
      "El valor del indice 3 es 80\n",
      "El valor del indice 4 es 90\n",
      "El valor del indice 5 es 120\n"
     ]
    }
   ],
   "source": [
    "for index, valor in enumerate(lista):\n",
    "    print(f\"El valor del indice {index} es {valor}\")"
   ]
  },
  {
   "cell_type": "code",
   "execution_count": 86,
   "id": "75c3b7e2-4925-47df-8263-1ea6d603c4c3",
   "metadata": {},
   "outputs": [
    {
     "name": "stdout",
     "output_type": "stream",
     "text": [
      "El valor del indice 0 es 1\n",
      "El valor del indice 1 es 20\n",
      "El valor del indice 2 es 900\n",
      "El valor del indice 3 es 512000\n",
      "El valor del indice 4 es 65610000\n",
      "El valor del indice 5 es 24883200000\n"
     ]
    }
   ],
   "source": [
    "for index, valor in enumerate(lista):\n",
    "    print(f\"El valor del indice {index} es {valor**index}\")"
   ]
  },
  {
   "cell_type": "markdown",
   "id": "5c2866a0-01aa-4f19-9a4a-eeeb4beaa8be",
   "metadata": {},
   "source": [
    "### 4. Comprehensions"
   ]
  },
  {
   "cell_type": "code",
   "execution_count": 89,
   "id": "845fe43e-63fc-48b1-bda9-e98e7c38ccc5",
   "metadata": {},
   "outputs": [
    {
     "data": {
      "text/plain": [
       "['A', 'B', 'C', 'D', 'E', 'F', 'G']"
      ]
     },
     "execution_count": 89,
     "metadata": {},
     "output_type": "execute_result"
    }
   ],
   "source": [
    "letras = [\"a\",\"b\",\"c\",\"d\",\"e\",\"f\",\"g\"]\n",
    "mayusculas = []\n",
    "\n",
    "for valor in letras:\n",
    "    mayusculas.append(valor.upper())\n",
    "mayusculas"
   ]
  },
  {
   "cell_type": "code",
   "execution_count": 92,
   "id": "b8b936f8-0fec-4e2c-bd28-4d4979d79ae1",
   "metadata": {},
   "outputs": [
    {
     "data": {
      "text/plain": [
       "['A', 'B', 'C', 'D', 'E', 'F', 'G']"
      ]
     },
     "execution_count": 92,
     "metadata": {},
     "output_type": "execute_result"
    }
   ],
   "source": [
    "mayusculas = [valor.upper() for valor in letras]\n",
    "mayusculas"
   ]
  },
  {
   "cell_type": "code",
   "execution_count": 99,
   "id": "6babea01-a662-4645-8a14-afc048c577cb",
   "metadata": {},
   "outputs": [],
   "source": [
    "import math\n",
    "def exp_neg(x):\n",
    "    return round(math.e**-x,5)"
   ]
  },
  {
   "cell_type": "code",
   "execution_count": 95,
   "id": "b3485ead-3c17-426f-ae92-b4f3d09a2151",
   "metadata": {},
   "outputs": [
    {
     "name": "stdout",
     "output_type": "stream",
     "text": [
      "0.36787944117144233\n"
     ]
    }
   ],
   "source": [
    "exp_neg(1)"
   ]
  },
  {
   "cell_type": "code",
   "execution_count": 100,
   "id": "3828d0a2-2729-461c-b7e1-a7efeb980ff9",
   "metadata": {},
   "outputs": [
    {
     "data": {
      "text/plain": [
       "[1.0,\n",
       " 0.36788,\n",
       " 0.13534,\n",
       " 0.04979,\n",
       " 0.01832,\n",
       " 0.00674,\n",
       " 0.00248,\n",
       " 0.00091,\n",
       " 0.00034,\n",
       " 0.00012]"
      ]
     },
     "execution_count": 100,
     "metadata": {},
     "output_type": "execute_result"
    }
   ],
   "source": [
    "lista_x = list(range(10))\n",
    "lista_x\n",
    "lista_exp_neg = [exp_neg(x) for x in lista_x]\n",
    "lista_exp_neg"
   ]
  },
  {
   "cell_type": "markdown",
   "id": "16479f27-627a-4e42-af4a-6fd84e1f72b4",
   "metadata": {},
   "source": [
    "### 5. Tuplas\n",
    "Las tuplas son inmutables o dicho en otras palabras no se pueden modificar"
   ]
  },
  {
   "cell_type": "code",
   "execution_count": 102,
   "id": "3e42265f-7a28-46fe-86e0-e320351cc669",
   "metadata": {},
   "outputs": [
    {
     "data": {
      "text/plain": [
       "(1, 2, 3, 4, 5)"
      ]
     },
     "execution_count": 102,
     "metadata": {},
     "output_type": "execute_result"
    }
   ],
   "source": [
    "tupla = (1, 2, 3, 4, 5)\n",
    "tupla"
   ]
  },
  {
   "cell_type": "code",
   "execution_count": 103,
   "id": "3f3b6003-3216-441b-8e3b-44bff4628ad1",
   "metadata": {},
   "outputs": [
    {
     "data": {
      "text/plain": [
       "1"
      ]
     },
     "execution_count": 103,
     "metadata": {},
     "output_type": "execute_result"
    }
   ],
   "source": [
    "tupla[0]"
   ]
  },
  {
   "cell_type": "code",
   "execution_count": 104,
   "id": "898745fa-848d-4832-ba00-9451526790ee",
   "metadata": {},
   "outputs": [],
   "source": [
    "# tupla[2] = -1 #error"
   ]
  },
  {
   "cell_type": "code",
   "execution_count": 105,
   "id": "cef62c11-0b05-429d-9854-84e0678ebb9c",
   "metadata": {},
   "outputs": [],
   "source": [
    "tuplaDatos = (10, 20, True, 'Hola', [4,5,6], 120)"
   ]
  },
  {
   "cell_type": "code",
   "execution_count": 106,
   "id": "e1f67481-88ff-4d89-a2c0-e614b727370c",
   "metadata": {},
   "outputs": [
    {
     "data": {
      "text/plain": [
       "True"
      ]
     },
     "execution_count": 106,
     "metadata": {},
     "output_type": "execute_result"
    }
   ],
   "source": [
    "10 in tuplaDatos"
   ]
  },
  {
   "cell_type": "code",
   "execution_count": 107,
   "id": "adf90502-5ce1-4636-8bec-563c44aa2909",
   "metadata": {},
   "outputs": [
    {
     "data": {
      "text/plain": [
       "1"
      ]
     },
     "execution_count": 107,
     "metadata": {},
     "output_type": "execute_result"
    }
   ],
   "source": [
    "tuplaDatos.count(10)"
   ]
  },
  {
   "cell_type": "code",
   "execution_count": 108,
   "id": "993b1771-f89a-427d-aced-95d585795f05",
   "metadata": {},
   "outputs": [
    {
     "data": {
      "text/plain": [
       "3"
      ]
     },
     "execution_count": 108,
     "metadata": {},
     "output_type": "execute_result"
    }
   ],
   "source": [
    "tuplaDatos.index('Hola')"
   ]
  },
  {
   "cell_type": "code",
   "execution_count": 109,
   "id": "7378b47d-ac95-4d6d-995f-8968bd9c33ea",
   "metadata": {},
   "outputs": [
    {
     "data": {
      "text/plain": [
       "6"
      ]
     },
     "execution_count": 109,
     "metadata": {},
     "output_type": "execute_result"
    }
   ],
   "source": [
    "len(tuplaDatos)"
   ]
  },
  {
   "cell_type": "code",
   "execution_count": 111,
   "id": "8626681d-e712-4aaa-9fe2-c6f8659e0ebd",
   "metadata": {},
   "outputs": [
    {
     "data": {
      "text/plain": [
       "[10, 20, True, 'Hola', [4, 5, 6], 120]"
      ]
     },
     "execution_count": 111,
     "metadata": {},
     "output_type": "execute_result"
    }
   ],
   "source": [
    "lista_tupla = list(tuplaDatos)\n",
    "lista_tupla"
   ]
  },
  {
   "cell_type": "code",
   "execution_count": 112,
   "id": "e5ed359e-3fe1-41a5-a76b-9bc7659564bf",
   "metadata": {},
   "outputs": [
    {
     "data": {
      "text/plain": [
       "(10, 20, True, 'Hola', [4, 5, 6], 120)"
      ]
     },
     "execution_count": 112,
     "metadata": {},
     "output_type": "execute_result"
    }
   ],
   "source": [
    "tuple(lista_tupla)"
   ]
  },
  {
   "cell_type": "code",
   "execution_count": 117,
   "id": "fb6a9f08-5210-4d6d-9376-315f7337f835",
   "metadata": {},
   "outputs": [
    {
     "data": {
      "text/plain": [
       "(100, 200, 300, 400, 500, 600)"
      ]
     },
     "execution_count": 117,
     "metadata": {},
     "output_type": "execute_result"
    }
   ],
   "source": [
    "tupla_numero = (10, 20, 30, 40, 50, 60)\n",
    "lista_numero = tuple([x*10 for x in tupla_numero])\n",
    "lista_numero"
   ]
  },
  {
   "cell_type": "markdown",
   "id": "d4f2ee41-8114-4f64-b543-a5e75e69a876",
   "metadata": {},
   "source": [
    "### 6. Diccionarios"
   ]
  },
  {
   "cell_type": "code",
   "execution_count": 118,
   "id": "3b0019dc-94eb-4dc3-bfbb-eacd9ed985d7",
   "metadata": {},
   "outputs": [
    {
     "data": {
      "text/plain": [
       "{1: 'Javascript', 2: 'Java', 3: 'Python'}"
      ]
     },
     "execution_count": 118,
     "metadata": {},
     "output_type": "execute_result"
    }
   ],
   "source": [
    "dict1 = {1: 'Javascript',\n",
    "         2: 'Java',\n",
    "         3: 'Python'}\n",
    "dict1"
   ]
  },
  {
   "cell_type": "code",
   "execution_count": 119,
   "id": "7382aefc-bfc3-4d1d-94d0-fb48027a8a86",
   "metadata": {},
   "outputs": [
    {
     "data": {
      "text/plain": [
       "'Python'"
      ]
     },
     "execution_count": 119,
     "metadata": {},
     "output_type": "execute_result"
    }
   ],
   "source": [
    "dict1[3]"
   ]
  },
  {
   "cell_type": "code",
   "execution_count": 122,
   "id": "e067fb3a-5971-4ddd-8f2d-0540da5472be",
   "metadata": {},
   "outputs": [
    {
     "data": {
      "text/plain": [
       "{1: 'Javascript', 2: 'Java', 3: 'Python', 8: 'C#'}"
      ]
     },
     "execution_count": 122,
     "metadata": {},
     "output_type": "execute_result"
    }
   ],
   "source": [
    "dict1[8] = 'C#'\n",
    "dict1"
   ]
  },
  {
   "cell_type": "code",
   "execution_count": 124,
   "id": "d5d8738e-3874-4cdb-8981-c1aee5624782",
   "metadata": {},
   "outputs": [
    {
     "data": {
      "text/plain": [
       "{1: 'Javascript', 2: 'Java', 3: 'Python', 8: 'C#', 'code': 'C'}"
      ]
     },
     "execution_count": 124,
     "metadata": {},
     "output_type": "execute_result"
    }
   ],
   "source": [
    "dict1['code'] = 'C'\n",
    "dict1"
   ]
  },
  {
   "cell_type": "code",
   "execution_count": 125,
   "id": "15ace939-13f8-4fc3-b95b-3293e25d5fc4",
   "metadata": {},
   "outputs": [
    {
     "data": {
      "text/plain": [
       "{'hora': '19:55', 'valores': {'temperatura': 10, 'humedad': 3, 'prec': 23}}"
      ]
     },
     "execution_count": 125,
     "metadata": {},
     "output_type": "execute_result"
    }
   ],
   "source": [
    "dict2 = {\n",
    "    \"hora\" : \"19:55\",\n",
    "    \"valores\" : {\n",
    "        \"temperatura\": 10,\n",
    "        \"humedad\": 3,\n",
    "        \"prec\": 23\n",
    "    }\n",
    "}\n",
    "\n",
    "dict2"
   ]
  },
  {
   "cell_type": "code",
   "execution_count": 126,
   "id": "d6987964-b21e-4f5b-9cc1-7a145bba1dac",
   "metadata": {},
   "outputs": [
    {
     "data": {
      "text/plain": [
       "{'temperatura': 10, 'humedad': 3, 'prec': 23}"
      ]
     },
     "execution_count": 126,
     "metadata": {},
     "output_type": "execute_result"
    }
   ],
   "source": [
    "dict2[\"valores\"]"
   ]
  },
  {
   "cell_type": "code",
   "execution_count": 127,
   "id": "3ec0371e-4e02-4aef-84c0-c7a56ae03a29",
   "metadata": {},
   "outputs": [
    {
     "data": {
      "text/plain": [
       "['Javascript', 'Java', 'Python', 'C#', 'C']"
      ]
     },
     "execution_count": 127,
     "metadata": {},
     "output_type": "execute_result"
    }
   ],
   "source": [
    "list(dict1.values())"
   ]
  },
  {
   "cell_type": "code",
   "execution_count": 128,
   "id": "bd0fd424-feba-4e0a-b4e8-5c64ba1aa901",
   "metadata": {},
   "outputs": [
    {
     "data": {
      "text/plain": [
       "[1, 2, 3, 8, 'code']"
      ]
     },
     "execution_count": 128,
     "metadata": {},
     "output_type": "execute_result"
    }
   ],
   "source": [
    "list(dict1.keys())"
   ]
  },
  {
   "cell_type": "code",
   "execution_count": 129,
   "id": "0b7a431d-3597-433c-aaf3-b07fe1cd4962",
   "metadata": {},
   "outputs": [
    {
     "data": {
      "text/plain": [
       "{1: 'Javascript', 2: 'Java', 3: 'Python', 8: 'C#', 'code': 'C'}"
      ]
     },
     "execution_count": 129,
     "metadata": {},
     "output_type": "execute_result"
    }
   ],
   "source": [
    "{k: v for k, v in dict1.items()}"
   ]
  },
  {
   "cell_type": "code",
   "execution_count": null,
   "id": "4515a405-10e2-41e2-8421-49baff7bf2d5",
   "metadata": {},
   "outputs": [],
   "source": []
  }
 ],
 "metadata": {
  "kernelspec": {
   "display_name": "Python 3 (ipykernel)",
   "language": "python",
   "name": "python3"
  },
  "language_info": {
   "codemirror_mode": {
    "name": "ipython",
    "version": 3
   },
   "file_extension": ".py",
   "mimetype": "text/x-python",
   "name": "python",
   "nbconvert_exporter": "python",
   "pygments_lexer": "ipython3",
   "version": "3.11.7"
  }
 },
 "nbformat": 4,
 "nbformat_minor": 5
}
