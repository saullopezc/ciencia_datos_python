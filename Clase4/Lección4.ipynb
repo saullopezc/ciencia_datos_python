{
 "cells": [
  {
   "cell_type": "markdown",
   "id": "6fdcc28d-5277-4136-b099-1ba7474dc93f",
   "metadata": {},
   "source": [
    "## 1. Set"
   ]
  },
  {
   "cell_type": "code",
   "execution_count": 1,
   "id": "4da6e19d-8d7e-4f5e-af81-0b2542b8d583",
   "metadata": {},
   "outputs": [],
   "source": [
    "set = {1, 2, 3, 4, 5, 'Hola'}"
   ]
  },
  {
   "cell_type": "code",
   "execution_count": 2,
   "id": "544e5373-2523-4a34-b974-c722340cd12e",
   "metadata": {},
   "outputs": [
    {
     "data": {
      "text/plain": [
       "{1, 10, 2, 3, 4, 5, 'Hola'}"
      ]
     },
     "execution_count": 2,
     "metadata": {},
     "output_type": "execute_result"
    }
   ],
   "source": [
    "set.add(10)\n",
    "set"
   ]
  },
  {
   "cell_type": "code",
   "execution_count": 3,
   "id": "2481e316-0532-43ab-aab8-bd70dbb46ab4",
   "metadata": {},
   "outputs": [
    {
     "data": {
      "text/plain": [
       "{1, 10, 2, 3, 4, 5, 'Hola'}"
      ]
     },
     "execution_count": 3,
     "metadata": {},
     "output_type": "execute_result"
    }
   ],
   "source": [
    "set.add(10)\n",
    "set"
   ]
  },
  {
   "cell_type": "code",
   "execution_count": 4,
   "id": "1926f369-cad8-47ad-b447-64329fb5daa8",
   "metadata": {},
   "outputs": [],
   "source": [
    "set1 = {1,2,3,4,5}"
   ]
  },
  {
   "cell_type": "code",
   "execution_count": 5,
   "id": "ed51a251-dec3-4121-a11e-a5407698ce84",
   "metadata": {},
   "outputs": [],
   "source": [
    "set2 = {5,6,7,8,9,4}"
   ]
  },
  {
   "cell_type": "code",
   "execution_count": 6,
   "id": "e9ae3da1-7c5e-45dc-90da-677cf850eab6",
   "metadata": {},
   "outputs": [
    {
     "data": {
      "text/plain": [
       "{1, 2, 3, 4, 5, 6, 7, 8, 9}"
      ]
     },
     "execution_count": 6,
     "metadata": {},
     "output_type": "execute_result"
    }
   ],
   "source": [
    "set1.union(set2)"
   ]
  },
  {
   "cell_type": "code",
   "execution_count": 7,
   "id": "72ce3706-4788-4659-9b42-f2a9f3498d2f",
   "metadata": {},
   "outputs": [
    {
     "data": {
      "text/plain": [
       "{4, 5}"
      ]
     },
     "execution_count": 7,
     "metadata": {},
     "output_type": "execute_result"
    }
   ],
   "source": [
    "set1.intersection(set2)"
   ]
  },
  {
   "cell_type": "code",
   "execution_count": 8,
   "id": "3a50ed9b-4aee-45c8-80e7-12892d984058",
   "metadata": {},
   "outputs": [
    {
     "data": {
      "text/plain": [
       "{1, 2, 3}"
      ]
     },
     "execution_count": 8,
     "metadata": {},
     "output_type": "execute_result"
    }
   ],
   "source": [
    "set1.difference(set2)"
   ]
  },
  {
   "cell_type": "code",
   "execution_count": 9,
   "id": "cbc6e05f-762c-4091-9a63-d5d3d3948122",
   "metadata": {},
   "outputs": [
    {
     "data": {
      "text/plain": [
       "{6, 7, 8, 9}"
      ]
     },
     "execution_count": 9,
     "metadata": {},
     "output_type": "execute_result"
    }
   ],
   "source": [
    "set2.difference(set1)"
   ]
  },
  {
   "cell_type": "code",
   "execution_count": 10,
   "id": "54254980-e5c7-49f5-89f6-165dee2ac021",
   "metadata": {},
   "outputs": [
    {
     "data": {
      "text/plain": [
       "{1, 2, 3, 6, 7, 8, 9}"
      ]
     },
     "execution_count": 10,
     "metadata": {},
     "output_type": "execute_result"
    }
   ],
   "source": [
    "set1.symmetric_difference(set2)"
   ]
  },
  {
   "cell_type": "code",
   "execution_count": 11,
   "id": "8b01ebed-97b3-40a8-9dba-2bdf894a72d9",
   "metadata": {},
   "outputs": [
    {
     "data": {
      "text/plain": [
       "{'ABC', 'DFG', 'HIJ'}"
      ]
     },
     "execution_count": 11,
     "metadata": {},
     "output_type": "execute_result"
    }
   ],
   "source": [
    "letras = { 'abc', 'dfg', 'hij'}\n",
    "mayusculas = { l.upper() for l in letras}\n",
    "mayusculas"
   ]
  },
  {
   "cell_type": "markdown",
   "id": "73132605-fcc2-4547-aba3-23c591e6d19a",
   "metadata": {},
   "source": [
    "## 2. Numpy"
   ]
  },
  {
   "cell_type": "code",
   "execution_count": 12,
   "id": "b1affb01-df9b-4052-887d-af76881904ae",
   "metadata": {},
   "outputs": [],
   "source": [
    "import numpy as np"
   ]
  },
  {
   "cell_type": "code",
   "execution_count": 13,
   "id": "df3c7151-3c9a-42e1-b02b-d8d9e41f76af",
   "metadata": {},
   "outputs": [
    {
     "data": {
      "text/plain": [
       "[1, 2, 3, 4, 5]"
      ]
     },
     "execution_count": 13,
     "metadata": {},
     "output_type": "execute_result"
    }
   ],
   "source": [
    "x = [1,2,3,4,5]\n",
    "x"
   ]
  },
  {
   "cell_type": "code",
   "execution_count": 14,
   "id": "39d9acdc-356f-4586-99ab-9020d65fde97",
   "metadata": {},
   "outputs": [
    {
     "data": {
      "text/plain": [
       "array([1., 2., 3., 4., 5., 6.])"
      ]
     },
     "execution_count": 14,
     "metadata": {},
     "output_type": "execute_result"
    }
   ],
   "source": [
    "x = np.array([1,2,3,4,5,6], dtype = 'float')\n",
    "x"
   ]
  },
  {
   "cell_type": "code",
   "execution_count": 16,
   "id": "892df4fb-8825-4758-b8e2-b5fae1581373",
   "metadata": {},
   "outputs": [
    {
     "data": {
      "text/plain": [
       "array([ 1,  2,  3,  4,  5,  6,  7,  8,  9, 10])"
      ]
     },
     "execution_count": 16,
     "metadata": {},
     "output_type": "execute_result"
    }
   ],
   "source": [
    "np.arange(1,11,1)"
   ]
  },
  {
   "cell_type": "code",
   "execution_count": 17,
   "id": "b1a19b20-42d8-4603-b911-1d1b3cf0a443",
   "metadata": {},
   "outputs": [
    {
     "data": {
      "text/plain": [
       "array([1.        , 1.44444444, 1.88888889, 2.33333333, 2.77777778,\n",
       "       3.22222222, 3.66666667, 4.11111111, 4.55555556, 5.        ])"
      ]
     },
     "execution_count": 17,
     "metadata": {},
     "output_type": "execute_result"
    }
   ],
   "source": [
    "np.linspace(1,5,10)"
   ]
  },
  {
   "cell_type": "code",
   "execution_count": 18,
   "id": "7ac1ac5e-7ea6-401c-978f-e2d0e707246d",
   "metadata": {},
   "outputs": [
    {
     "data": {
      "text/plain": [
       "array([0., 0., 0., 0., 0., 0., 0., 0., 0., 0.])"
      ]
     },
     "execution_count": 18,
     "metadata": {},
     "output_type": "execute_result"
    }
   ],
   "source": [
    "np.zeros(10)"
   ]
  },
  {
   "cell_type": "code",
   "execution_count": 19,
   "id": "6ddb5434-9738-4ec0-834b-cc1337edd59d",
   "metadata": {},
   "outputs": [
    {
     "data": {
      "text/plain": [
       "array([1., 1., 1., 1., 1., 1., 1., 1., 1., 1.])"
      ]
     },
     "execution_count": 19,
     "metadata": {},
     "output_type": "execute_result"
    }
   ],
   "source": [
    "np.ones(10)"
   ]
  },
  {
   "cell_type": "code",
   "execution_count": 20,
   "id": "0a530c5f-3453-4c75-a610-b0eaa3875063",
   "metadata": {},
   "outputs": [
    {
     "data": {
      "text/plain": [
       "array([0., 0., 0., 0., 0., 0.])"
      ]
     },
     "execution_count": 20,
     "metadata": {},
     "output_type": "execute_result"
    }
   ],
   "source": [
    "np.zeros_like(x)"
   ]
  },
  {
   "cell_type": "markdown",
   "id": "c2e8b5c7-e34f-48bf-9335-0de9c2b0df34",
   "metadata": {},
   "source": [
    "### 2.1 Rangos y Dimensiones"
   ]
  },
  {
   "cell_type": "code",
   "execution_count": 21,
   "id": "21bff140-ed37-4ac8-a6ef-3b7ef23c66d0",
   "metadata": {},
   "outputs": [
    {
     "data": {
      "text/plain": [
       "array([[0., 0., 0., 0., 0., 0., 0., 0., 0., 0.],\n",
       "       [0., 0., 0., 0., 0., 0., 0., 0., 0., 0.],\n",
       "       [0., 0., 0., 0., 0., 0., 0., 0., 0., 0.],\n",
       "       [0., 0., 0., 0., 0., 0., 0., 0., 0., 0.],\n",
       "       [0., 0., 0., 0., 0., 0., 0., 0., 0., 0.],\n",
       "       [0., 0., 0., 0., 0., 0., 0., 0., 0., 0.],\n",
       "       [0., 0., 0., 0., 0., 0., 0., 0., 0., 0.],\n",
       "       [0., 0., 0., 0., 0., 0., 0., 0., 0., 0.],\n",
       "       [0., 0., 0., 0., 0., 0., 0., 0., 0., 0.],\n",
       "       [0., 0., 0., 0., 0., 0., 0., 0., 0., 0.]])"
      ]
     },
     "execution_count": 21,
     "metadata": {},
     "output_type": "execute_result"
    }
   ],
   "source": [
    "x = np.zeros((10,10))\n",
    "x"
   ]
  },
  {
   "cell_type": "code",
   "execution_count": 22,
   "id": "9d9fb104-1d21-4ed9-9dbd-9983ccb2a721",
   "metadata": {},
   "outputs": [
    {
     "data": {
      "text/plain": [
       "(10, 10)"
      ]
     },
     "execution_count": 22,
     "metadata": {},
     "output_type": "execute_result"
    }
   ],
   "source": [
    "# Dimensiones del tensor\n",
    "x.shape #Cantidad de elementos que tiene cada dimensión"
   ]
  },
  {
   "cell_type": "code",
   "execution_count": 23,
   "id": "adb8b8d6-c80d-4705-897f-88abbf480c5d",
   "metadata": {},
   "outputs": [
    {
     "data": {
      "text/plain": [
       "2"
      ]
     },
     "execution_count": 23,
     "metadata": {},
     "output_type": "execute_result"
    }
   ],
   "source": [
    "#Rango del tensor\n",
    "x.ndim #Cantidad de dimensiones"
   ]
  },
  {
   "cell_type": "code",
   "execution_count": 24,
   "id": "ac33df99-2565-4163-8f21-9314aa14af86",
   "metadata": {},
   "outputs": [
    {
     "data": {
      "text/plain": [
       "0.0"
      ]
     },
     "execution_count": 24,
     "metadata": {},
     "output_type": "execute_result"
    }
   ],
   "source": [
    "x[2,1]"
   ]
  },
  {
   "cell_type": "code",
   "execution_count": 25,
   "id": "d3eb4a5e-8f11-42fa-8e5d-a22970577731",
   "metadata": {},
   "outputs": [
    {
     "data": {
      "text/plain": [
       "(2, 2, 5)"
      ]
     },
     "execution_count": 25,
     "metadata": {},
     "output_type": "execute_result"
    }
   ],
   "source": [
    "x = np.array([[[10,20,30,40,50],\n",
    "               [60,70,80,90,100]],\n",
    "              [[100,200,300,400,500],\n",
    "               [600,700,800,900,1000]]\n",
    "             ])\n",
    "\n",
    "x.shape"
   ]
  },
  {
   "cell_type": "code",
   "execution_count": 26,
   "id": "1fe95c45-b395-4189-85a2-93fe7a31f633",
   "metadata": {},
   "outputs": [
    {
     "data": {
      "text/plain": [
       "90"
      ]
     },
     "execution_count": 26,
     "metadata": {},
     "output_type": "execute_result"
    }
   ],
   "source": [
    "x[0, 1, 3]"
   ]
  },
  {
   "cell_type": "code",
   "execution_count": 27,
   "id": "39b380c2-ff23-4da5-a11f-22ec3ad9ae43",
   "metadata": {},
   "outputs": [
    {
     "data": {
      "text/plain": [
       "1000"
      ]
     },
     "execution_count": 27,
     "metadata": {},
     "output_type": "execute_result"
    }
   ],
   "source": [
    "x[1, 1, 4]"
   ]
  },
  {
   "cell_type": "markdown",
   "id": "5f87f9fd-f34e-4436-83dd-5590175d0d28",
   "metadata": {},
   "source": [
    "### 2.2 Operaciones con Vectores"
   ]
  },
  {
   "cell_type": "code",
   "execution_count": 29,
   "id": "6b233b0b-9f8d-486e-9532-dc23bde52e54",
   "metadata": {},
   "outputs": [
    {
     "name": "stdout",
     "output_type": "stream",
     "text": [
      "[ 7  9 11 13 15]\n",
      "[-5 -5 -5 -5 -5]\n",
      "[ 6 14 24 36 50]\n",
      "[0.16666667 0.28571429 0.375      0.44444444 0.5       ]\n"
     ]
    }
   ],
   "source": [
    "v = np.arange(1,6,1)\n",
    "w = np.arange(6,11,1)\n",
    "\n",
    "print(v + w)\n",
    "print(v - w)\n",
    "print(v * w)\n",
    "print(v / w)"
   ]
  },
  {
   "cell_type": "code",
   "execution_count": 30,
   "id": "bf73bab5-4b6d-4cae-b07b-df11ac9ed943",
   "metadata": {},
   "outputs": [
    {
     "data": {
      "text/plain": [
       "array([ 2,  4,  6,  8, 10])"
      ]
     },
     "execution_count": 30,
     "metadata": {},
     "output_type": "execute_result"
    }
   ],
   "source": [
    "#Broadcasting\n",
    "\n",
    "v*2"
   ]
  },
  {
   "cell_type": "code",
   "execution_count": 31,
   "id": "e3aceb1d-d027-4ce2-b41a-28962cc5b564",
   "metadata": {},
   "outputs": [
    {
     "name": "stdout",
     "output_type": "stream",
     "text": [
      "[0.5 1.  1.5 2.  2.5]\n",
      "[ 6  7  8  9 10]\n",
      "[-9 -8 -7 -6 -5]\n",
      "[1 0 1 0 1]\n"
     ]
    }
   ],
   "source": [
    "print(v/2)\n",
    "print(v+5)\n",
    "print(v-10)\n",
    "print(v%2)"
   ]
  },
  {
   "cell_type": "code",
   "execution_count": 32,
   "id": "4b970fd1-b2f3-4029-9f3a-b94bc3d39461",
   "metadata": {},
   "outputs": [
    {
     "data": {
      "text/plain": [
       "[1, 2, 3, 1, 2, 3]"
      ]
     },
     "execution_count": 32,
     "metadata": {},
     "output_type": "execute_result"
    }
   ],
   "source": [
    "x = [1, 2, 3]\n",
    "x*2\n",
    "#No hay broadcasting"
   ]
  },
  {
   "cell_type": "markdown",
   "id": "e85f74e6-7751-4da2-bcbb-ff751ed3a724",
   "metadata": {},
   "source": [
    "### 2.4 Funciones Universales\n"
   ]
  },
  {
   "cell_type": "code",
   "execution_count": 33,
   "id": "1b40b8e6-9c10-4605-9775-ed49922d8be8",
   "metadata": {},
   "outputs": [
    {
     "data": {
      "text/plain": [
       "array([-2, -1,  0,  1,  1,  3,  6])"
      ]
     },
     "execution_count": 33,
     "metadata": {},
     "output_type": "execute_result"
    }
   ],
   "source": [
    "x = np.array([-2,-1,0,1,1,3,6])\n",
    "x"
   ]
  },
  {
   "cell_type": "code",
   "execution_count": 35,
   "id": "e70c83ea-e927-46e5-9aaa-7ace2642616f",
   "metadata": {},
   "outputs": [
    {
     "name": "stdout",
     "output_type": "stream",
     "text": [
      "[-1 -1  0  1  1  1  1]\n",
      "[2 1 0 1 1 3 6]\n",
      "[-0.41614684  0.54030231  1.          0.54030231  0.54030231 -0.9899925\n",
      "  0.96017029]\n",
      "[-0.90929743 -0.84147098  0.          0.84147098  0.84147098  0.14112001\n",
      " -0.2794155 ]\n",
      "[1.35335283e-01 3.67879441e-01 1.00000000e+00 2.71828183e+00\n",
      " 2.71828183e+00 2.00855369e+01 4.03428793e+02]\n",
      "[       nan        nan       -inf 0.         0.         1.09861229\n",
      " 1.79175947]\n"
     ]
    },
    {
     "name": "stderr",
     "output_type": "stream",
     "text": [
      "/tmp/ipykernel_245/1421518739.py:6: RuntimeWarning: divide by zero encountered in log\n",
      "  print(np.log(x))\n",
      "/tmp/ipykernel_245/1421518739.py:6: RuntimeWarning: invalid value encountered in log\n",
      "  print(np.log(x))\n"
     ]
    }
   ],
   "source": [
    "print(np.sign(x))\n",
    "print(np.abs(x))\n",
    "print(np.cos(x))\n",
    "print(np.sin(x))\n",
    "print(np.exp(x))\n",
    "print(np.log(x))\n"
   ]
  },
  {
   "cell_type": "code",
   "execution_count": 36,
   "id": "e2d5c51c-4bd9-4d03-8082-9fc8ab83b672",
   "metadata": {},
   "outputs": [
    {
     "name": "stdout",
     "output_type": "stream",
     "text": [
      "[       nan        nan 0.         1.         1.         1.73205081\n",
      " 2.44948974]\n"
     ]
    },
    {
     "name": "stderr",
     "output_type": "stream",
     "text": [
      "/tmp/ipykernel_245/2965746161.py:1: RuntimeWarning: invalid value encountered in sqrt\n",
      "  print(np.sqrt(x))\n"
     ]
    }
   ],
   "source": [
    "print(np.sqrt(x))"
   ]
  },
  {
   "cell_type": "code",
   "execution_count": 37,
   "id": "75db508e-ee7f-4070-bad3-03f084c18539",
   "metadata": {},
   "outputs": [],
   "source": [
    "x = np.array([1,2,3,4,5,6,7,8,9,2,2])\n",
    "x_nan = np.array([1,2,3,4,np.nan,6,8,10,np.nan])\n"
   ]
  },
  {
   "cell_type": "code",
   "execution_count": 38,
   "id": "89e52d39-9ebc-40f9-87f9-4e19875ecaa4",
   "metadata": {},
   "outputs": [
    {
     "data": {
      "text/plain": [
       "4.454545454545454"
      ]
     },
     "execution_count": 38,
     "metadata": {},
     "output_type": "execute_result"
    }
   ],
   "source": [
    "np.mean(x)"
   ]
  },
  {
   "cell_type": "code",
   "execution_count": 40,
   "id": "bb01d34e-0c17-4ce2-a567-9a2932f9a95d",
   "metadata": {},
   "outputs": [
    {
     "data": {
      "text/plain": [
       "4.857142857142857"
      ]
     },
     "execution_count": 40,
     "metadata": {},
     "output_type": "execute_result"
    }
   ],
   "source": [
    "np.mean(x_nan) #media para los casos donde hay nan\n",
    "np.nanmean(x_nan) #media para los casos donde hay nan"
   ]
  },
  {
   "cell_type": "code",
   "execution_count": 42,
   "id": "849c1daf-e3b4-4bf6-a6f6-588ff6c377e8",
   "metadata": {},
   "outputs": [
    {
     "name": "stdout",
     "output_type": "stream",
     "text": [
      "9\n",
      "10.0\n"
     ]
    }
   ],
   "source": [
    "print(np.max(x))\n",
    "print(np.nanmax(x_nan))"
   ]
  },
  {
   "cell_type": "code",
   "execution_count": 43,
   "id": "b86a9fb0-e4f9-404a-81dc-1b028baa7a4d",
   "metadata": {},
   "outputs": [
    {
     "name": "stdout",
     "output_type": "stream",
     "text": [
      "1\n",
      "1.0\n"
     ]
    }
   ],
   "source": [
    "print(np.min(x))\n",
    "print(np.nanmin(x_nan))"
   ]
  },
  {
   "cell_type": "code",
   "execution_count": 44,
   "id": "f81bf948-b2d9-44c1-b0fe-9af2ad48ff06",
   "metadata": {},
   "outputs": [
    {
     "name": "stdout",
     "output_type": "stream",
     "text": [
      "6.793388429752068\n",
      "9.26530612244898\n"
     ]
    }
   ],
   "source": [
    "print(np.var(x))\n",
    "print(np.nanvar(x_nan))"
   ]
  },
  {
   "cell_type": "code",
   "execution_count": 45,
   "id": "75fae902-3b30-4339-9b35-7ae3e51e0ee6",
   "metadata": {},
   "outputs": [
    {
     "name": "stdout",
     "output_type": "stream",
     "text": [
      "2.6064129430602643\n",
      "3.0438965360946453\n"
     ]
    }
   ],
   "source": [
    "print(np.std(x))\n",
    "print(np.nanstd(x_nan))"
   ]
  },
  {
   "cell_type": "code",
   "execution_count": 46,
   "id": "a2a3b210-1c43-45a2-95f8-b6156b39c372",
   "metadata": {},
   "outputs": [
    {
     "name": "stdout",
     "output_type": "stream",
     "text": [
      "1451520\n",
      "11520.0\n"
     ]
    }
   ],
   "source": [
    "print(np.prod(x))\n",
    "print(np.nanprod(x_nan))"
   ]
  },
  {
   "cell_type": "code",
   "execution_count": 47,
   "id": "5b76acdc-b2ff-42fd-ac69-d6f68ff72130",
   "metadata": {},
   "outputs": [
    {
     "name": "stdout",
     "output_type": "stream",
     "text": [
      "8\n",
      "7\n"
     ]
    }
   ],
   "source": [
    "\n",
    "#Posición del valor maximo\n",
    "print(np.argmax(x))\n",
    "print(np.nanargmax(x_nan))"
   ]
  },
  {
   "cell_type": "code",
   "execution_count": 48,
   "id": "ca6e53f8-b28b-48fd-b882-1d6efe4373fd",
   "metadata": {},
   "outputs": [
    {
     "name": "stdout",
     "output_type": "stream",
     "text": [
      "0\n",
      "0\n"
     ]
    }
   ],
   "source": [
    "\n",
    "#Posición del valor minimo\n",
    "print(np.argmin(x))\n",
    "print(np.nanargmin(x_nan))"
   ]
  },
  {
   "cell_type": "code",
   "execution_count": 49,
   "id": "f5cf122a-bc42-4157-8402-a872096562b5",
   "metadata": {},
   "outputs": [
    {
     "name": "stdout",
     "output_type": "stream",
     "text": [
      "4.0\n",
      "4.0\n"
     ]
    }
   ],
   "source": [
    "print(np.median(x))\n",
    "print(np.nanmedian(x_nan))"
   ]
  },
  {
   "cell_type": "code",
   "execution_count": null,
   "id": "4ee29842-fb9b-470f-a508-4384eb069728",
   "metadata": {},
   "outputs": [],
   "source": []
  }
 ],
 "metadata": {
  "kernelspec": {
   "display_name": "Python 3 (ipykernel)",
   "language": "python",
   "name": "python3"
  },
  "language_info": {
   "codemirror_mode": {
    "name": "ipython",
    "version": 3
   },
   "file_extension": ".py",
   "mimetype": "text/x-python",
   "name": "python",
   "nbconvert_exporter": "python",
   "pygments_lexer": "ipython3",
   "version": "3.11.7"
  }
 },
 "nbformat": 4,
 "nbformat_minor": 5
}
